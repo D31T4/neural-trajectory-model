{
 "cells": [
  {
   "cell_type": "code",
   "execution_count": 3,
   "id": "b2580a85",
   "metadata": {},
   "outputs": [],
   "source": [
    "import pandas as pd\n",
    "import numpy as np\n",
    "import matplotlib.pyplot as plt\n",
    "from sklearn.preprocessing import LabelEncoder\n",
    "import random\n",
    "import folium\n",
    "import plotly.graph_objects as go\n",
    "import plotly.express as px\n",
    "import matplotlib.cm as cm\n",
    "import matplotlib.colors as colors\n",
    "from collections import defaultdict"
   ]
  },
  {
   "cell_type": "code",
   "execution_count": 4,
   "id": "a40446b9",
   "metadata": {},
   "outputs": [
    {
     "name": "stdout",
     "output_type": "stream",
     "text": [
      "<class 'pandas.core.frame.DataFrame'>\n",
      "RangeIndex: 58625 entries, 0 to 58624\n",
      "Data columns (total 8 columns):\n",
      " #   Column       Non-Null Count  Dtype  \n",
      "---  ------       --------------  -----  \n",
      " 0   Latitude     58625 non-null  float64\n",
      " 1   Longtitude   58625 non-null  float64\n",
      " 2   0            58625 non-null  int64  \n",
      " 3   Altitute     58625 non-null  float64\n",
      " 4   Date         58625 non-null  float64\n",
      " 5   Date string  58625 non-null  object \n",
      " 6   Time         58625 non-null  object \n",
      " 7   UID          58625 non-null  int64  \n",
      "dtypes: float64(4), int64(2), object(2)\n",
      "memory usage: 3.6+ MB\n"
     ]
    }
   ],
   "source": [
    "df = pd.read_csv('data_processed2.csv')\n",
    "df.info() # check empty or Null"
   ]
  },
  {
   "cell_type": "code",
   "execution_count": 5,
   "id": "77da79bc",
   "metadata": {
    "scrolled": true
   },
   "outputs": [],
   "source": [
    "# correct spelling\n",
    "df = df.rename(columns={'Longtitude': 'Longitude'})"
   ]
  },
  {
   "cell_type": "markdown",
   "id": "dbe29ab8",
   "metadata": {},
   "source": [
    "## Bounding box and outlier deletion"
   ]
  },
  {
   "cell_type": "code",
   "execution_count": 7,
   "id": "b428cb9c",
   "metadata": {},
   "outputs": [
    {
     "name": "stdout",
     "output_type": "stream",
     "text": [
      "1.274887 64.751993\n",
      "-179.44559 175.61915\n"
     ]
    }
   ],
   "source": [
    "# Before outlier removal\n",
    "min_latitude_before = df['Latitude'].min()\n",
    "max_latitude_before = df['Latitude'].max()\n",
    "\n",
    "min_longitude_before = df['Longitude'].min()\n",
    "max_longitude_before = df['Longitude'].max()\n",
    "\n",
    "print(min_latitude_before, max_latitude_before)\n",
    "print(min_longitude_before, max_longitude_before)"
   ]
  },
  {
   "cell_type": "code",
   "execution_count": 8,
   "id": "c3e110b2",
   "metadata": {},
   "outputs": [],
   "source": [
    "def show_map(df, mode):\n",
    "    fig = go.Figure(data=go.Scattergeo(\n",
    "            lon = df['Longitude'],\n",
    "            lat = df['Latitude'],\n",
    "            mode = 'markers',\n",
    "            marker_color = df['UID'],\n",
    "            ))\n",
    "    if mode == 'asia':\n",
    "        fig.update_geos(scope='asia')\n",
    "\n",
    "    fig.show()"
   ]
  },
  {
   "cell_type": "code",
   "execution_count": null,
   "id": "0a4ac940",
   "metadata": {},
   "outputs": [],
   "source": [
    "# get the bounding box -- 95% pertentile\n",
    "# min_index = int(len(df) * 0.025)\n",
    "# max_index = int(len(df) * 0.975)\n",
    "# print(min_index, max_index)\n",
    "# sorted_latitude = df['Latitude'].sort_values(ignore_index=True)\n",
    "# sorted_longitude = df['Longitude'].sort_values(ignore_index=True)\n",
    "\n",
    "# min_latitude = sorted_latitude[min_index]\n",
    "# max_latitude = sorted_latitude[max_index]\n",
    "\n",
    "# min_longitude = sorted_longitude[min_index]\n",
    "# max_longitude = sorted_longitude[max_index]"
   ]
  },
  {
   "cell_type": "code",
   "execution_count": null,
   "id": "d5d706c4",
   "metadata": {},
   "outputs": [],
   "source": [
    "print(min_latitude, max_latitude)\n",
    "print(min_longitude, max_longitude)"
   ]
  },
  {
   "cell_type": "code",
   "execution_count": 9,
   "id": "7ac78457",
   "metadata": {},
   "outputs": [
    {
     "data": {
      "text/html": [
       "<div>\n",
       "<style scoped>\n",
       "    .dataframe tbody tr th:only-of-type {\n",
       "        vertical-align: middle;\n",
       "    }\n",
       "\n",
       "    .dataframe tbody tr th {\n",
       "        vertical-align: top;\n",
       "    }\n",
       "\n",
       "    .dataframe thead th {\n",
       "        text-align: right;\n",
       "    }\n",
       "</style>\n",
       "<table border=\"1\" class=\"dataframe\">\n",
       "  <thead>\n",
       "    <tr style=\"text-align: right;\">\n",
       "      <th></th>\n",
       "      <th>Latitude</th>\n",
       "      <th>Longitude</th>\n",
       "      <th>0</th>\n",
       "      <th>Altitute</th>\n",
       "      <th>Date</th>\n",
       "      <th>Date string</th>\n",
       "      <th>Time</th>\n",
       "      <th>UID</th>\n",
       "    </tr>\n",
       "  </thead>\n",
       "  <tbody>\n",
       "    <tr>\n",
       "      <th>0</th>\n",
       "      <td>39.984356</td>\n",
       "      <td>116.304909</td>\n",
       "      <td>0</td>\n",
       "      <td>305.000000</td>\n",
       "      <td>39744.125000</td>\n",
       "      <td>2008-10-23</td>\n",
       "      <td>03:00:00</td>\n",
       "      <td>0</td>\n",
       "    </tr>\n",
       "    <tr>\n",
       "      <th>1</th>\n",
       "      <td>39.991288</td>\n",
       "      <td>116.320445</td>\n",
       "      <td>0</td>\n",
       "      <td>66.000000</td>\n",
       "      <td>39744.184745</td>\n",
       "      <td>2008-10-23</td>\n",
       "      <td>04:26:02</td>\n",
       "      <td>0</td>\n",
       "    </tr>\n",
       "    <tr>\n",
       "      <th>2</th>\n",
       "      <td>40.009351</td>\n",
       "      <td>116.321916</td>\n",
       "      <td>0</td>\n",
       "      <td>158.000000</td>\n",
       "      <td>39744.418102</td>\n",
       "      <td>2008-10-23</td>\n",
       "      <td>10:02:04</td>\n",
       "      <td>0</td>\n",
       "    </tr>\n",
       "    <tr>\n",
       "      <th>3</th>\n",
       "      <td>40.006747</td>\n",
       "      <td>116.318549</td>\n",
       "      <td>0</td>\n",
       "      <td>7584.000000</td>\n",
       "      <td>39744.435127</td>\n",
       "      <td>2008-10-23</td>\n",
       "      <td>10:26:35</td>\n",
       "      <td>0</td>\n",
       "    </tr>\n",
       "    <tr>\n",
       "      <th>4</th>\n",
       "      <td>40.008718</td>\n",
       "      <td>116.322383</td>\n",
       "      <td>0</td>\n",
       "      <td>117.000000</td>\n",
       "      <td>39745.101435</td>\n",
       "      <td>2008-10-24</td>\n",
       "      <td>02:26:04</td>\n",
       "      <td>0</td>\n",
       "    </tr>\n",
       "    <tr>\n",
       "      <th>...</th>\n",
       "      <td>...</td>\n",
       "      <td>...</td>\n",
       "      <td>...</td>\n",
       "      <td>...</td>\n",
       "      <td>...</td>\n",
       "      <td>...</td>\n",
       "      <td>...</td>\n",
       "      <td>...</td>\n",
       "    </tr>\n",
       "    <tr>\n",
       "      <th>48887</th>\n",
       "      <td>39.980150</td>\n",
       "      <td>116.299783</td>\n",
       "      <td>0</td>\n",
       "      <td>396.981627</td>\n",
       "      <td>39494.375069</td>\n",
       "      <td>2008-02-16</td>\n",
       "      <td>09:00:06</td>\n",
       "      <td>181</td>\n",
       "    </tr>\n",
       "    <tr>\n",
       "      <th>48888</th>\n",
       "      <td>39.989933</td>\n",
       "      <td>116.302783</td>\n",
       "      <td>0</td>\n",
       "      <td>383.858268</td>\n",
       "      <td>39495.042720</td>\n",
       "      <td>2008-02-17</td>\n",
       "      <td>01:01:31</td>\n",
       "      <td>181</td>\n",
       "    </tr>\n",
       "    <tr>\n",
       "      <th>48889</th>\n",
       "      <td>39.977050</td>\n",
       "      <td>116.310617</td>\n",
       "      <td>0</td>\n",
       "      <td>383.858268</td>\n",
       "      <td>39495.060035</td>\n",
       "      <td>2008-02-17</td>\n",
       "      <td>01:26:27</td>\n",
       "      <td>181</td>\n",
       "    </tr>\n",
       "    <tr>\n",
       "      <th>48890</th>\n",
       "      <td>39.983433</td>\n",
       "      <td>116.308350</td>\n",
       "      <td>0</td>\n",
       "      <td>183.727034</td>\n",
       "      <td>39495.186030</td>\n",
       "      <td>2008-02-17</td>\n",
       "      <td>04:27:53</td>\n",
       "      <td>181</td>\n",
       "    </tr>\n",
       "    <tr>\n",
       "      <th>48891</th>\n",
       "      <td>39.982767</td>\n",
       "      <td>116.300933</td>\n",
       "      <td>0</td>\n",
       "      <td>183.727034</td>\n",
       "      <td>39495.437593</td>\n",
       "      <td>2008-02-17</td>\n",
       "      <td>10:30:08</td>\n",
       "      <td>181</td>\n",
       "    </tr>\n",
       "  </tbody>\n",
       "</table>\n",
       "<p>48892 rows × 8 columns</p>\n",
       "</div>"
      ],
      "text/plain": [
       "        Latitude   Longitude  0     Altitute          Date Date string  \\\n",
       "0      39.984356  116.304909  0   305.000000  39744.125000  2008-10-23   \n",
       "1      39.991288  116.320445  0    66.000000  39744.184745  2008-10-23   \n",
       "2      40.009351  116.321916  0   158.000000  39744.418102  2008-10-23   \n",
       "3      40.006747  116.318549  0  7584.000000  39744.435127  2008-10-23   \n",
       "4      40.008718  116.322383  0   117.000000  39745.101435  2008-10-24   \n",
       "...          ...         ... ..          ...           ...         ...   \n",
       "48887  39.980150  116.299783  0   396.981627  39494.375069  2008-02-16   \n",
       "48888  39.989933  116.302783  0   383.858268  39495.042720  2008-02-17   \n",
       "48889  39.977050  116.310617  0   383.858268  39495.060035  2008-02-17   \n",
       "48890  39.983433  116.308350  0   183.727034  39495.186030  2008-02-17   \n",
       "48891  39.982767  116.300933  0   183.727034  39495.437593  2008-02-17   \n",
       "\n",
       "           Time  UID  \n",
       "0      03:00:00    0  \n",
       "1      04:26:02    0  \n",
       "2      10:02:04    0  \n",
       "3      10:26:35    0  \n",
       "4      02:26:04    0  \n",
       "...         ...  ...  \n",
       "48887  09:00:06  181  \n",
       "48888  01:01:31  181  \n",
       "48889  01:26:27  181  \n",
       "48890  04:27:53  181  \n",
       "48891  10:30:08  181  \n",
       "\n",
       "[48892 rows x 8 columns]"
      ]
     },
     "execution_count": 9,
     "metadata": {},
     "output_type": "execute_result"
    }
   ],
   "source": [
    "# use beijing city\n",
    "beijing_min_longitude, beijing_max_longitude = 115.416827, 117.508251\n",
    "beijing_min_latitude, beijing_max_latitude = 39.442078, 41.058964\n",
    "\n",
    "filtered_df = df[(df['Latitude'] < beijing_max_latitude) & (df['Latitude'] > beijing_min_latitude) & (df['Longitude'] < beijing_max_longitude) & (df['Longitude'] > beijing_min_longitude)]\n",
    "filtered_df = filtered_df.reset_index(drop=True)\n",
    "filtered_df"
   ]
  },
  {
   "cell_type": "markdown",
   "id": "e5e74a36",
   "metadata": {},
   "source": [
    "## Remove out-ranged daily records"
   ]
  },
  {
   "cell_type": "code",
   "execution_count": 10,
   "id": "0f3ada6d",
   "metadata": {},
   "outputs": [
    {
     "name": "stdout",
     "output_type": "stream",
     "text": [
      "{4: 1002, 1: 1833, 3: 1293, 5: 694, 8: 395, 2: 1836, 6: 561, 31: 4, 20: 39, 15: 81, 9: 325, 7: 468, 11: 206, 12: 158, 14: 124, 16: 77, 22: 26, 21: 39, 17: 52, 13: 136, 18: 52, 10: 228, 25: 6, 24: 11, 23: 19, 34: 1, 30: 2, 19: 49, 26: 8, 36: 3, 28: 2, 27: 5, 37: 2, 32: 2, 43: 1, 45: 1, 41: 1, 29: 5}\n"
     ]
    }
   ],
   "source": [
    "def get_frequency(df):\n",
    "    day_record_count = []\n",
    "    users = df['UID'].unique()\n",
    "    # check the records for a day\n",
    "    for user in users:\n",
    "        dates = df[df['UID'] == user]['Date string'].unique()\n",
    "        for date in dates:\n",
    "            num_record = len(df[(df['UID'] == user) & (df['Date string'] == date)])\n",
    "            day_record_count.append(num_record)\n",
    "    \n",
    "    frequency = {}\n",
    "    for element in day_record_count:\n",
    "        if element in frequency:\n",
    "            frequency[element] += 1\n",
    "        else:\n",
    "            frequency[element] = 1\n",
    "    return frequency\n",
    "    \n",
    "freq = get_frequency(filtered_df)\n",
    "print(freq)"
   ]
  },
  {
   "cell_type": "code",
   "execution_count": 11,
   "id": "81aea528",
   "metadata": {},
   "outputs": [
    {
     "data": {
      "image/png": "[encoded data removed]",
      "text/plain": [
       "<Figure size 640x480 with 1 Axes>"
      ]
     },
     "metadata": {},
     "output_type": "display_data"
    }
   ],
   "source": [
    "x_values = list(freq.keys())\n",
    "y_values = list(freq.values())\n",
    "\n",
    "# Create the bar plot\n",
    "plt.bar(x_values, y_values)\n",
    "\n",
    "# Add labels and title\n",
    "plt.xlabel('Amount of Records')\n",
    "plt.ylabel('Frequency')\n",
    "plt.title('Frequency of Records Amount')\n",
    "\n",
    "# Show the plot\n",
    "plt.show()"
   ]
  },
  {
   "cell_type": "code",
   "execution_count": 12,
   "id": "44bbfe9d",
   "metadata": {},
   "outputs": [],
   "source": [
    "def remove_out_ranged(min_range, max_range, df):\n",
    "    day_record_count = []\n",
    "    users = df['UID'].unique()\n",
    "    # check the records for a day\n",
    "    for user in users:\n",
    "        dates = df[df['UID'] == user]['Date string'].unique()\n",
    "        for date in dates:\n",
    "            num_record = len(df[(df['UID'] == user) & (df['Date string'] == date)])\n",
    "            if num_record < min_range or num_record > max_range:\n",
    "                df = df.drop(df[(df['UID'] == user) & (df['Date string'] == date)].index)\n",
    "    df = df.reset_index(drop=True)\n",
    "    return df"
   ]
  },
  {
   "cell_type": "code",
   "execution_count": 13,
   "id": "0bcb07dd",
   "metadata": {},
   "outputs": [
    {
     "data": {
      "text/html": [
       "<div>\n",
       "<style scoped>\n",
       "    .dataframe tbody tr th:only-of-type {\n",
       "        vertical-align: middle;\n",
       "    }\n",
       "\n",
       "    .dataframe tbody tr th {\n",
       "        vertical-align: top;\n",
       "    }\n",
       "\n",
       "    .dataframe thead th {\n",
       "        text-align: right;\n",
       "    }\n",
       "</style>\n",
       "<table border=\"1\" class=\"dataframe\">\n",
       "  <thead>\n",
       "    <tr style=\"text-align: right;\">\n",
       "      <th></th>\n",
       "      <th>Latitude</th>\n",
       "      <th>Longitude</th>\n",
       "      <th>0</th>\n",
       "      <th>Altitute</th>\n",
       "      <th>Date</th>\n",
       "      <th>Date string</th>\n",
       "      <th>Time</th>\n",
       "      <th>UID</th>\n",
       "    </tr>\n",
       "  </thead>\n",
       "  <tbody>\n",
       "    <tr>\n",
       "      <th>0</th>\n",
       "      <td>40.011595</td>\n",
       "      <td>116.296916</td>\n",
       "      <td>0</td>\n",
       "      <td>114.000000</td>\n",
       "      <td>39749.041678</td>\n",
       "      <td>2008-10-28</td>\n",
       "      <td>01:00:01</td>\n",
       "      <td>0</td>\n",
       "    </tr>\n",
       "    <tr>\n",
       "      <th>1</th>\n",
       "      <td>40.007690</td>\n",
       "      <td>116.295715</td>\n",
       "      <td>0</td>\n",
       "      <td>73.000000</td>\n",
       "      <td>39749.059734</td>\n",
       "      <td>2008-10-28</td>\n",
       "      <td>01:26:01</td>\n",
       "      <td>0</td>\n",
       "    </tr>\n",
       "    <tr>\n",
       "      <th>2</th>\n",
       "      <td>40.006310</td>\n",
       "      <td>116.296586</td>\n",
       "      <td>0</td>\n",
       "      <td>70.000000</td>\n",
       "      <td>39749.085428</td>\n",
       "      <td>2008-10-28</td>\n",
       "      <td>02:03:01</td>\n",
       "      <td>0</td>\n",
       "    </tr>\n",
       "    <tr>\n",
       "      <th>3</th>\n",
       "      <td>40.010108</td>\n",
       "      <td>116.300753</td>\n",
       "      <td>0</td>\n",
       "      <td>180.000000</td>\n",
       "      <td>39749.101400</td>\n",
       "      <td>2008-10-28</td>\n",
       "      <td>02:26:01</td>\n",
       "      <td>0</td>\n",
       "    </tr>\n",
       "    <tr>\n",
       "      <th>4</th>\n",
       "      <td>40.007635</td>\n",
       "      <td>116.319636</td>\n",
       "      <td>0</td>\n",
       "      <td>-197.000000</td>\n",
       "      <td>39749.210440</td>\n",
       "      <td>2008-10-28</td>\n",
       "      <td>05:03:02</td>\n",
       "      <td>0</td>\n",
       "    </tr>\n",
       "    <tr>\n",
       "      <th>...</th>\n",
       "      <td>...</td>\n",
       "      <td>...</td>\n",
       "      <td>...</td>\n",
       "      <td>...</td>\n",
       "      <td>...</td>\n",
       "      <td>...</td>\n",
       "      <td>...</td>\n",
       "      <td>...</td>\n",
       "    </tr>\n",
       "    <tr>\n",
       "      <th>35495</th>\n",
       "      <td>39.985017</td>\n",
       "      <td>116.309700</td>\n",
       "      <td>0</td>\n",
       "      <td>173.884514</td>\n",
       "      <td>39448.126134</td>\n",
       "      <td>2008-01-01</td>\n",
       "      <td>03:01:38</td>\n",
       "      <td>181</td>\n",
       "    </tr>\n",
       "    <tr>\n",
       "      <th>35496</th>\n",
       "      <td>39.964783</td>\n",
       "      <td>116.354900</td>\n",
       "      <td>0</td>\n",
       "      <td>475.721785</td>\n",
       "      <td>39448.143530</td>\n",
       "      <td>2008-01-01</td>\n",
       "      <td>03:26:41</td>\n",
       "      <td>181</td>\n",
       "    </tr>\n",
       "    <tr>\n",
       "      <th>35497</th>\n",
       "      <td>39.961183</td>\n",
       "      <td>116.358767</td>\n",
       "      <td>0</td>\n",
       "      <td>269.028871</td>\n",
       "      <td>39448.251840</td>\n",
       "      <td>2008-01-01</td>\n",
       "      <td>06:02:39</td>\n",
       "      <td>181</td>\n",
       "    </tr>\n",
       "    <tr>\n",
       "      <th>35498</th>\n",
       "      <td>39.960700</td>\n",
       "      <td>116.360033</td>\n",
       "      <td>0</td>\n",
       "      <td>213.254593</td>\n",
       "      <td>39448.272836</td>\n",
       "      <td>2008-01-01</td>\n",
       "      <td>06:32:53</td>\n",
       "      <td>181</td>\n",
       "    </tr>\n",
       "    <tr>\n",
       "      <th>35499</th>\n",
       "      <td>39.958750</td>\n",
       "      <td>116.360300</td>\n",
       "      <td>0</td>\n",
       "      <td>196.850394</td>\n",
       "      <td>39448.311632</td>\n",
       "      <td>2008-01-01</td>\n",
       "      <td>07:28:45</td>\n",
       "      <td>181</td>\n",
       "    </tr>\n",
       "  </tbody>\n",
       "</table>\n",
       "<p>35500 rows × 8 columns</p>\n",
       "</div>"
      ],
      "text/plain": [
       "        Latitude   Longitude  0    Altitute          Date Date string  \\\n",
       "0      40.011595  116.296916  0  114.000000  39749.041678  2008-10-28   \n",
       "1      40.007690  116.295715  0   73.000000  39749.059734  2008-10-28   \n",
       "2      40.006310  116.296586  0   70.000000  39749.085428  2008-10-28   \n",
       "3      40.010108  116.300753  0  180.000000  39749.101400  2008-10-28   \n",
       "4      40.007635  116.319636  0 -197.000000  39749.210440  2008-10-28   \n",
       "...          ...         ... ..         ...           ...         ...   \n",
       "35495  39.985017  116.309700  0  173.884514  39448.126134  2008-01-01   \n",
       "35496  39.964783  116.354900  0  475.721785  39448.143530  2008-01-01   \n",
       "35497  39.961183  116.358767  0  269.028871  39448.251840  2008-01-01   \n",
       "35498  39.960700  116.360033  0  213.254593  39448.272836  2008-01-01   \n",
       "35499  39.958750  116.360300  0  196.850394  39448.311632  2008-01-01   \n",
       "\n",
       "           Time  UID  \n",
       "0      01:00:01    0  \n",
       "1      01:26:01    0  \n",
       "2      02:03:01    0  \n",
       "3      02:26:01    0  \n",
       "4      05:03:02    0  \n",
       "...         ...  ...  \n",
       "35495  03:01:38  181  \n",
       "35496  03:26:41  181  \n",
       "35497  06:02:39  181  \n",
       "35498  06:32:53  181  \n",
       "35499  07:28:45  181  \n",
       "\n",
       "[35500 rows x 8 columns]"
      ]
     },
     "execution_count": 13,
     "metadata": {},
     "output_type": "execute_result"
    }
   ],
   "source": [
    "ranged_filtered_df = remove_out_ranged(5, 50, filtered_df)\n",
    "ranged_filtered_df"
   ]
  },
  {
   "cell_type": "code",
   "execution_count": 14,
   "id": "1de900c9",
   "metadata": {},
   "outputs": [
    {
     "data": {
      "text/plain": [
       "150"
      ]
     },
     "execution_count": 14,
     "metadata": {},
     "output_type": "execute_result"
    }
   ],
   "source": [
    "len(ranged_filtered_df['UID'].unique())"
   ]
  },
  {
   "cell_type": "code",
   "execution_count": 15,
   "id": "5b6a561f",
   "metadata": {},
   "outputs": [
    {
     "name": "stderr",
     "output_type": "stream",
     "text": [
      "c:\\Users\\Lik\\anaconda3\\envs\\yolov5\\lib\\site-packages\\ipykernel_launcher.py:11: UserWarning: color argument of Icon should be one of: {'beige', 'lightgray', 'lightred', 'green', 'blue', 'lightblue', 'white', 'orange', 'darkred', 'lightgreen', 'darkgreen', 'red', 'gray', 'black', 'purple', 'darkpurple', 'pink', 'cadetblue', 'darkblue'}.\n",
      "  # This is added back by InteractiveShellApp.init_path()\n"
     ]
    }
   ],
   "source": [
    "num_users = len(ranged_filtered_df['UID'].unique())\n",
    "cmap = cm.get_cmap('tab10', num_users)\n",
    "user_colors = defaultdict(lambda: cmap(len(user_colors)))\n",
    "\n",
    "m = folium.Map(location=[39.9, 116.4], zoom_start=9, tiles=\"cartodb positron\")\n",
    "\n",
    "for i, row in df.iterrows():\n",
    "    color = colors.rgb2hex(user_colors[row['UID']])\n",
    "    folium.Marker(\n",
    "        location=[row['Latitude'], row['Longitude']],\n",
    "        icon=folium.Icon(color=color),\n",
    "    ).add_to(m)\n",
    "\n",
    "# Save the map\n",
    "m.save('beijing.html')"
   ]
  },
  {
   "cell_type": "markdown",
   "id": "6eb11495",
   "metadata": {},
   "source": [
    "## Add grid"
   ]
  },
  {
   "cell_type": "code",
   "execution_count": null,
   "id": "499f8992",
   "metadata": {},
   "outputs": [],
   "source": [
    "range_latitude = max_latitude - min_latitude\n",
    "range_longitude = max_longitude - min_longitude\n",
    "print(range_latitude, range_longitude)"
   ]
  },
  {
   "cell_type": "code",
   "execution_count": null,
   "id": "a4971d49",
   "metadata": {},
   "outputs": [],
   "source": [
    "# define every grid is a 1 by 1 square\n"
   ]
  },
  {
   "cell_type": "code",
   "execution_count": 16,
   "id": "ccf671a8",
   "metadata": {},
   "outputs": [],
   "source": [
    "def aggregation(df, user, date):\n",
    "    aggr_df = df[df['UID'] == user & df['Date string'] == date]\n",
    "    aggr_df.sort_values(by=['Date'])\n",
    "    return aggr_df"
   ]
  },
  {
   "cell_type": "markdown",
   "id": "17279d8c",
   "metadata": {},
   "source": [
    "## First seven days' trajectory for user 0"
   ]
  },
  {
   "cell_type": "code",
   "execution_count": 17,
   "id": "8e27aa73",
   "metadata": {},
   "outputs": [
    {
     "name": "stdout",
     "output_type": "stream",
     "text": [
      "['2008-10-28' '2008-11-04' '2008-11-11' '2008-11-14' '2009-03-30'\n",
      " '2009-03-31' '2009-04-03' '2009-04-04' '2009-04-05' '2009-04-06'\n",
      " '2009-04-10' '2009-04-11' '2009-04-12' '2009-04-13' '2009-04-14'\n",
      " '2009-04-15' '2009-04-16' '2009-04-19' '2009-04-20' '2009-04-24'\n",
      " '2009-04-25' '2009-04-26' '2009-04-27' '2009-04-29' '2009-04-30'\n",
      " '2009-05-01' '2009-05-02' '2009-05-03' '2009-05-07' '2009-05-12'\n",
      " '2009-05-18' '2009-05-21' '2009-05-25' '2009-05-26' '2009-05-27'\n",
      " '2009-05-28' '2009-05-30' '2009-06-02' '2009-06-03' '2009-06-04'\n",
      " '2009-06-05' '2009-06-06' '2009-06-08' '2009-06-09' '2009-06-11'\n",
      " '2009-06-13' '2009-06-14' '2009-06-15' '2009-06-16' '2009-06-17'\n",
      " '2009-06-18' '2009-06-19' '2009-06-21' '2009-06-23' '2009-06-29'\n",
      " '2009-06-30' '2009-07-02' '2009-07-03' '2009-07-05']\n"
     ]
    }
   ],
   "source": [
    "print(ranged_filtered_df[ranged_filtered_df['UID']==0]['Date string'].drop_duplicates().values)"
   ]
  },
  {
   "cell_type": "code",
   "execution_count": 18,
   "id": "c90a19b3",
   "metadata": {},
   "outputs": [
    {
     "name": "stdout",
     "output_type": "stream",
     "text": [
      "10502\n"
     ]
    }
   ],
   "source": [
    "users = filtered_df['UID'].unique()\n",
    "sum_traj = 0\n",
    "for user in users:\n",
    "    sum_traj += len(ranged_filtered_df[ranged_filtered_df['UID']==0]['Date string'].drop_duplicates().values)\n",
    "print(sum_traj)"
   ]
  },
  {
   "cell_type": "code",
   "execution_count": 19,
   "id": "ff9d4769",
   "metadata": {},
   "outputs": [
    {
     "name": "stdout",
     "output_type": "stream",
     "text": [
      "351\n",
      "['2008-10-23', '2008-10-24', '2008-10-26', '2008-10-27', '2008-10-28', '2008-10-29', '2008-11-03', '2008-11-04', '2008-11-10', '2008-11-11', '2008-11-12', '2008-11-13', '2008-11-14', '2008-11-15', '2008-11-17', '2008-11-18', '2008-11-19', '2008-11-20', '2008-11-21', '2008-11-22', '2008-11-23', '2008-12-01', '2008-12-03', '2008-12-04', '2008-12-10', '2008-12-12', '2009-03-30', '2009-03-31', '2009-04-01', '2009-04-02', '2009-04-03', '2009-04-04', '2009-04-05', '2009-04-06', '2009-04-09', '2009-04-10', '2009-04-11', '2009-04-12', '2009-04-13', '2009-04-14', '2009-04-15', '2009-04-16', '2009-04-17', '2009-04-18', '2009-04-19', '2009-04-20', '2009-04-21', '2009-04-22', '2009-04-23', '2009-04-24', '2009-04-26', '2009-04-27', '2009-04-28', '2009-04-29', '2009-04-30', '2009-05-01', '2009-05-02', '2009-05-03', '2009-05-04', '2009-05-05', '2009-05-06', '2009-05-07', '2009-05-08', '2009-05-09', '2009-05-10', '2009-05-11', '2009-05-12', '2009-05-13', '2009-05-14', '2009-05-15', '2009-05-16', '2009-05-17', '2009-05-18', '2009-05-19', '2009-05-20', '2009-05-21', '2009-05-22', '2009-05-23', '2009-05-24', '2009-05-25', '2009-05-26', '2009-05-27', '2009-05-28', '2009-05-30', '2009-05-31', '2009-06-01', '2009-06-02', '2009-06-03', '2009-06-04', '2009-06-05', '2009-06-06', '2009-06-07', '2009-06-08', '2009-06-09', '2009-06-10', '2009-06-11', '2009-06-12', '2009-06-13', '2009-06-14', '2009-06-15', '2009-06-16', '2009-06-17', '2009-06-18', '2009-06-19', '2009-06-20', '2009-06-21', '2009-06-22', '2009-06-23', '2009-06-24', '2009-06-25', '2009-06-29', '2009-06-30', '2009-07-01', '2009-07-02', '2009-07-03', '2009-07-04', '2009-07-05', '2008-10-25', '2008-10-30', '2008-10-31', '2008-11-01', '2008-11-02', '2008-11-05', '2008-11-06', '2008-11-07', '2008-11-08', '2008-11-09', '2008-11-16', '2008-12-02', '2008-12-05', '2008-12-06', '2008-12-07', '2008-12-08', '2008-12-09', '2008-12-11', '2008-12-13', '2008-12-14', '2008-12-15', '2008-12-22', '2008-12-23', '2008-12-24', '2008-12-26', '2008-12-27', '2008-12-31', '2009-01-01', '2009-01-08', '2009-01-09', '2009-01-10', '2009-01-19', '2009-01-20', '2009-01-22', '2009-01-31', '2009-02-01', '2009-02-02', '2009-02-03', '2009-02-04', '2009-02-05', '2009-02-06', '2009-02-07', '2009-02-08', '2009-02-09', '2009-02-10', '2009-02-11', '2009-02-12', '2009-02-13', '2009-02-14', '2009-02-15', '2009-02-16', '2009-02-17', '2009-02-18', '2009-02-19', '2009-02-20', '2009-02-21', '2009-02-22', '2009-02-23', '2009-02-24', '2009-02-25', '2009-02-26', '2009-02-27', '2009-02-28', '2009-03-01', '2009-03-02', '2009-03-03', '2009-03-04', '2009-03-05', '2009-03-06', '2009-03-07', '2009-03-08', '2009-03-09', '2009-03-10', '2009-03-11', '2009-03-12', '2009-03-14', '2009-03-15', '2009-03-17', '2009-03-18', '2009-03-19', '2009-03-21', '2009-03-22', '2008-11-30', '2008-12-16', '2008-12-17', '2008-12-18', '2008-12-19', '2008-12-21', '2008-12-25', '2009-01-06', '2009-01-11', '2009-01-12', '2009-01-13', '2009-01-14', '2009-01-15', '2009-01-16', '2009-01-17', '2009-01-18', '2009-03-13', '2009-03-16', '2009-03-20', '2009-03-23', '2009-03-24', '2009-03-25', '2009-03-26', '2009-04-07', '2009-04-08', '2009-06-26', '2009-06-27', '2009-06-28', '2009-07-06', '2009-07-07', '2009-07-08', '2009-07-09', '2009-07-10', '2009-07-11', '2009-07-12', '2009-07-13', '2009-07-14', '2009-07-15', '2009-07-16', '2009-07-17', '2009-07-18', '2009-07-19', '2009-07-20', '2009-07-21', '2008-11-26', '2008-08-01', '2008-09-16', '2008-09-17', '2008-09-18', '2008-09-19', '2008-09-21', '2008-09-23', '2008-09-24', '2008-09-25', '2008-09-27', '2008-09-28', '2008-10-03', '2008-10-06', '2008-10-07', '2008-10-08', '2008-10-09', '2008-10-10', '2008-10-12', '2008-10-13', '2008-10-14', '2008-10-15', '2008-10-16', '2008-10-17', '2008-10-20', '2008-09-29', '2008-09-30', '2008-10-01', '2008-10-02', '2008-10-05', '2008-10-11', '2008-10-19', '2008-10-21', '2008-10-22', '2008-10-18', '2008-11-28', '2008-11-29', '2009-03-27', '2009-08-01', '2007-11-30', '2007-12-08', '2008-04-30', '2008-05-20', '2008-05-21', '2008-05-22', '2008-05-23', '2008-05-27', '2008-05-28', '2008-05-29', '2008-05-30', '2008-05-31', '2008-06-02', '2008-06-05', '2008-06-07', '2008-06-20', '2008-06-21', '2008-06-29', '2008-07-02', '2008-07-03', '2008-07-10', '2008-07-11', '2008-07-16', '2008-07-18', '2008-07-19', '2008-07-23', '2008-07-24', '2008-07-25', '2008-07-27', '2008-07-31', '2008-08-18', '2008-08-19', '2008-08-20', '2008-08-21', '2008-08-22', '2008-08-25', '2008-08-26', '2008-08-27', '2008-08-31', '2008-09-01', '2008-09-02', '2008-05-05', '2008-05-06', '2008-05-07', '2008-05-16', '2008-08-07', '2008-08-15', '2008-08-16', '2008-08-17', '2008-08-23', '2008-08-24', '2008-08-28', '2008-08-29', '2008-09-04', '2008-09-08', '2008-09-09', '2008-09-11', '2008-09-12', '2008-09-13', '2008-09-14', '2008-09-15', '2008-09-20', '2008-05-01', '2008-05-10', '2008-05-24', '2008-05-09', '2008-05-11', '2008-05-17', '2008-05-12']\n"
     ]
    }
   ],
   "source": [
    "# find the same day how many users are in this day\n",
    "unique_days = filtered_df['Date string'].unique()\n",
    "date_traj_dict = {}\n",
    "for day in unique_days:\n",
    "    date_traj_dict[day] = 0\n",
    "\n",
    "for user in users:\n",
    "    user_dates = filtered_df[filtered_df['UID'] == user]['Date string'].unique()\n",
    "    for day in user_dates:\n",
    "        date_traj_dict[day] += 1\n",
    "\n",
    "threshold = 10\n",
    "date_availble = []\n",
    "for day in date_traj_dict:\n",
    "    if date_traj_dict[day] >= threshold:\n",
    "        date_availble.append(day)\n",
    "        \n",
    "print(len(date_availble))\n",
    "print(date_availble)"
   ]
  },
  {
   "cell_type": "code",
   "execution_count": 26,
   "id": "62fcc178",
   "metadata": {},
   "outputs": [
    {
     "name": "stdout",
     "output_type": "stream",
     "text": [
      "[[(39.999748, 116.325489, '02:26:00'), (40.000017, 116.327485, '07:33:38'), (39.996271, 116.299381, '08:00:03'), (39.924572, 116.268747, '08:26:03'), (39.763277, 116.297391, '13:05:13'), (39.855453, 116.277075, '13:26:03'), (39.995047, 116.326441, '14:00:03'), (39.999975, 116.327386, '17:03:57')], [(40.010056, 116.322318, '05:26:03'), (39.998493, 116.321585, '07:26:02'), (39.992813, 116.289597, '08:00:02'), (39.883988, 116.203385, '08:26:02'), (39.763374, 116.297387, '13:05:14'), (39.826135, 116.283854, '13:26:04'), (39.991058, 116.315291, '14:00:02')], [(40.000017, 116.327479, '07:33:03'), (39.99443, 116.298239, '08:00:04'), (39.89574, 116.240603, '08:26:04'), (39.763433, 116.297462, '13:05:10'), (39.823255, 116.283871, '13:26:00'), (39.990987, 116.315074, '14:00:00')], [(40.000278, 116.327658, '07:33:28'), (39.996238, 116.298736, '08:00:03'), (39.895174, 116.204883, '08:26:03'), (39.763201, 116.297439, '13:05:13'), (39.829266, 116.283946, '13:26:03'), (39.991423, 116.327097, '14:00:03'), (39.993462, 116.326504, '22:03:35'), (39.935203, 116.268001, '22:26:00')], [(39.763327, 116.297398, '05:05:15'), (39.886229, 116.268079, '05:26:00'), (39.993286, 116.326847, '06:00:00'), (40.007921, 116.324231, '10:00:01'), (40.009468, 116.322883, '10:26:11'), (39.998524, 116.319884, '11:00:01'), (39.991322, 116.331625, '11:29:21'), (39.9081, 116.586467, '13:00:01'), (39.941366, 116.789273, '13:26:01')], [(39.950773, 116.801289, '00:04:06'), (39.946421, 116.782568, '00:27:16'), (39.926181, 116.648364, '08:00:03'), (39.995491, 116.326414, '09:26:03'), (40.001081, 116.327144, '10:00:00'), (40.010119, 116.322477, '10:30:25')], [(39.999852, 116.327191, '00:27:05'), (40.01015, 116.322465, '04:26:04'), (39.999908, 116.327031, '05:00:00'), (39.994961, 116.325574, '05:26:03'), (39.99627, 116.324781, '07:31:56'), (40.007192, 116.320763, '11:26:01'), (40.000138, 116.327473, '15:30:00')]]\n"
     ]
    }
   ],
   "source": [
    "# obtain the data for user 0 in several consecutive days (e.g. user 0, from 2009-04-09 to 2009-04-15)\n",
    "user_date_range = ['2009-04-10', '2009-04-11', '2009-04-12', '2009-04-13', '2009-04-14', '2009-04-15', '2009-04-16']\n",
    "# user_date_range = ['2009-04-10']\n",
    "UID = 0\n",
    "user_weekly_trajectory_df = ranged_filtered_df[(ranged_filtered_df['UID'] == UID) & (ranged_filtered_df['Date string'].isin(user_date_range))]\n",
    "user_weekly_trajectory_df = user_weekly_trajectory_df.reset_index(drop=True)\n",
    "\n",
    "weekly_trajectory_line = []\n",
    "daily_trajectory = []\n",
    "current_date = user_date_range[0]\n",
    "\n",
    "for i, row in user_weekly_trajectory_df.iterrows():\n",
    "    if row['Date string'] != current_date:\n",
    "        weekly_trajectory_line.append(daily_trajectory)\n",
    "        daily_trajectory = []\n",
    "        current_date = row['Date string']\n",
    "    if i >= len(user_weekly_trajectory_df) - 1:\n",
    "        daily_trajectory.append((row['Latitude'], row['Longitude'], row['Time']))\n",
    "        weekly_trajectory_line.append(daily_trajectory)\n",
    "        break\n",
    "    daily_trajectory.append((row['Latitude'], row['Longitude'], row['Time']))\n",
    "print(weekly_trajectory_line)"
   ]
  },
  {
   "cell_type": "code",
   "execution_count": 28,
   "id": "c0ebc237",
   "metadata": {},
   "outputs": [],
   "source": [
    "plot_beijing_line(weekly_trajectory_line)"
   ]
  },
  {
   "cell_type": "markdown",
   "id": "7ed582e6",
   "metadata": {},
   "source": [
    "## Plot helping functions here"
   ]
  },
  {
   "cell_type": "code",
   "execution_count": 21,
   "id": "4cd6b64c",
   "metadata": {},
   "outputs": [],
   "source": [
    "def plot_beijing_scatter(trajectory):\n",
    "    m = folium.Map(location=[39.9, 116.4], zoom_start=9, tiles=\"cartodb positron\")\n",
    "    for daily_record in trajectory:\n",
    "        for (latitude, longitude) in daily_record:\n",
    "            folium.Marker((latitude, longitude)).add_to(m)\n",
    "    m.save(\"beijing_scatter.html\")"
   ]
  },
  {
   "cell_type": "code",
   "execution_count": 27,
   "id": "0ff94414",
   "metadata": {},
   "outputs": [],
   "source": [
    "def plot_beijing_line(trajectory):\n",
    "    m = folium.Map(location=[39.9, 116.4], zoom_start=9, tiles=\"cartodb positron\")\n",
    "    colors = ['gray', 'black', 'lightred', 'cadetblue', 'red', 'darkblue', 'green', 'lightblue', 'beige', 'blue', 'lightgreen', 'white', 'orange', 'darkgreen', 'purple', 'darkred', 'pink', 'darkpurple', 'lightgray']\n",
    "    for day in range(len(trajectory)):\n",
    "        line = []\n",
    "        for location in range(len(trajectory[day])):\n",
    "            popup = f\"Day {day+1} - {location+1} - {trajectory[day][location][2]}\"\n",
    "            loc = f\"{location+1}\"\n",
    "            line.append(trajectory[day][location][0:2])\n",
    "            folium.Marker(location=trajectory[day][location][0:2],\n",
    "                         tooltip=popup,\n",
    "                         icon=folium.Icon(icon=loc, prefix='fa', color=colors[day])\n",
    "                         ).add_to(m)\n",
    "            \n",
    "        folium.PolyLine(line, color=\"red\", weight=2.5, opacity=1).add_to(m)\n",
    "    m.save(\"beijing_line.html\")"
   ]
  },
  {
   "cell_type": "code",
   "execution_count": null,
   "id": "0c9e1eac",
   "metadata": {},
   "outputs": [],
   "source": [
    "plot_beijing_line([(39,116),(38, 115), (39,114)])"
   ]
  },
  {
   "cell_type": "code",
   "execution_count": 75,
   "id": "2c6d999a",
   "metadata": {},
   "outputs": [
    {
     "data": {
      "text/plain": [
       "'100'"
      ]
     },
     "execution_count": 75,
     "metadata": {},
     "output_type": "execute_result"
    }
   ],
   "source": [
    "a = 100\n",
    "str(a)"
   ]
  },
  {
   "cell_type": "code",
   "execution_count": 24,
   "id": "b30880d1",
   "metadata": {},
   "outputs": [],
   "source": [
    "ranged_filtered_df.to_csv('data_processed3.csv', encoding='utf-8', index=False)"
   ]
  }
 ],
 "metadata": {
  "kernelspec": {
   "display_name": "Python 3 (ipykernel)",
   "language": "python",
   "name": "python3"
  },
  "language_info": {
   "codemirror_mode": {
    "name": "ipython",
    "version": 3
   },
   "file_extension": ".py",
   "mimetype": "text/x-python",
   "name": "python",
   "nbconvert_exporter": "python",
   "pygments_lexer": "ipython3",
   "version": "3.7.16"
  }
 },
 "nbformat": 4,
 "nbformat_minor": 5
}

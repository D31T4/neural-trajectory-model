{
 "cells": [
  {
   "cell_type": "markdown",
   "metadata": {},
   "source": [
    "# Experiment\n",
    "\n",
    "Dataset: Shanghai Telecom dataset discretize on 50 clusters and 30 minute inverval."
   ]
  },
  {
   "cell_type": "markdown",
   "metadata": {},
   "source": [
    "## Requirements\n",
    "\n",
    "- Pre-processed dataset located at `{ROOT}/data/sh30-c50`\n",
    "- Pre-trained model state located at `{ROOT}/src/ml/checkpoints/sh30-c100_best.pt`\n",
    "- Pre-computed 100 clusters located at `{ROOT}/data/exploratory_analysis/mog_100.npy`"
   ]
  },
  {
   "cell_type": "markdown",
   "metadata": {},
   "source": [
    "## Import and constants"
   ]
  },
  {
   "cell_type": "code",
   "execution_count": 4,
   "metadata": {},
   "outputs": [],
   "source": [
    "import torch\n",
    "import torch.nn as nn\n",
    "import torch.nn.functional as F\n",
    "\n",
    "import tqdm\n",
    "import math\n",
    "import pandas as pd\n",
    "import numpy as np\n",
    "import matplotlib.pyplot as plt\n",
    "import random\n",
    "\n",
    "from src.path import ROOT\n",
    "\n",
    "# trajectory length\n",
    "SEQ_LENGTH: int = 48\n",
    "\n",
    "# cuda flag\n",
    "USE_CUDA: bool = True\n",
    "\n",
    "if USE_CUDA and not torch.cuda.is_available():\n",
    "    USE_CUDA = False\n",
    "    print('fallback to cpu as CUDA is not available on this device')"
   ]
  },
  {
   "cell_type": "markdown",
   "metadata": {},
   "source": [
    "## define dataset"
   ]
  },
  {
   "cell_type": "markdown",
   "metadata": {},
   "source": [
    "### define path\n",
    "\n",
    "Change the path variable here if you place your dataset files in a different location."
   ]
  },
  {
   "cell_type": "code",
   "execution_count": 5,
   "metadata": {},
   "outputs": [],
   "source": [
    "cluster_path = f'{ROOT}/exploratory_analysis/mog_50.npy'\n",
    "dataset_path = str(ROOT.joinpath('data/sh30-c50'))"
   ]
  },
  {
   "cell_type": "markdown",
   "metadata": {},
   "source": [
    "### split dataset\n",
    "\n",
    "Split to pre-defined training set and test set"
   ]
  },
  {
   "cell_type": "code",
   "execution_count": 6,
   "metadata": {},
   "outputs": [],
   "source": [
    "import os\n",
    "from datetime import date\n",
    "\n",
    "from src.data_preprocess.trajectory import from_dataframe\n",
    "from src.ml.dataset import get_shanghai_date\n",
    "\n",
    "file_list = os.listdir(dataset_path)\n",
    "\n",
    "def is_test(fname: str):\n",
    "    '''\n",
    "    returns True if file belongs to test set\n",
    "    '''\n",
    "    fdate = get_shanghai_date(fname)\n",
    "    ref_date = date(2014, 6, 18)\n",
    "    return fdate >= ref_date and (fdate - ref_date).days < 15\n",
    "\n",
    "\n",
    "test_files = [fname for fname in file_list if is_test(fname)]\n",
    "train_files = [fname for fname in file_list if not is_test(fname)]"
   ]
  },
  {
   "cell_type": "markdown",
   "metadata": {},
   "source": [
    "### read basestations"
   ]
  },
  {
   "cell_type": "code",
   "execution_count": 7,
   "metadata": {},
   "outputs": [],
   "source": [
    "all_candidates: np.ndarray = np.load(cluster_path)"
   ]
  },
  {
   "cell_type": "markdown",
   "metadata": {},
   "source": [
    "### load dataset\n",
    "\n",
    "Load dataset files into in-memory."
   ]
  },
  {
   "cell_type": "code",
   "execution_count": 8,
   "metadata": {},
   "outputs": [
    {
     "name": "stderr",
     "output_type": "stream",
     "text": [
      "100%|██████████| 15/15 [01:03<00:00,  4.20s/it]\n"
     ]
    }
   ],
   "source": [
    "from src.data_preprocess.trajectory import from_dataframe, Trajectory\n",
    "\n",
    "def read_csv(fname: str):\n",
    "    # https://stackoverflow.com/questions/36909368/precision-lost-while-using-read-csv-in-pandas#:~:text=Pandas%20uses%20a%20dedicated%20decimal-to-binary%20converter%20that%20sacrifices,of%20speed.%20Passing%20float_precision%3D%27round_trip%27%20to%20read_csv%20fixes%20this.\n",
    "    df = pd.read_csv(f'{dataset_path}/{fname}', float_precision='round_trip')\n",
    "    return from_dataframe(df, SEQ_LENGTH)\n",
    "\n",
    "test_trajectories: list[dict[str, Trajectory]] = [None] * len(test_files)\n",
    "\n",
    "for i in tqdm.trange(len(test_files)):\n",
    "    fname = test_files[i]\n",
    "    test_trajectories[i] = read_csv(fname)"
   ]
  },
  {
   "cell_type": "markdown",
   "metadata": {},
   "source": [
    "Optional: remove non-persistent users"
   ]
  },
  {
   "cell_type": "code",
   "execution_count": 9,
   "metadata": {},
   "outputs": [
    {
     "data": {
      "text/plain": [
       "1309"
      ]
     },
     "execution_count": 9,
     "metadata": {},
     "output_type": "execute_result"
    }
   ],
   "source": [
    "from src.utils import set_intersect\n",
    "\n",
    "persistent_users = set_intersect(*(trajectories.keys() for trajectories in test_trajectories))\n",
    "\n",
    "for i in range(len(test_trajectories)):\n",
    "    test_trajectories[i] = {\n",
    "        uid: trajectory\n",
    "        for uid, trajectory in test_trajectories[i].items()\n",
    "        if uid in persistent_users\n",
    "    }\n",
    "\n",
    "len(persistent_users)"
   ]
  },
  {
   "cell_type": "markdown",
   "metadata": {},
   "source": [
    "## baseline"
   ]
  },
  {
   "cell_type": "markdown",
   "metadata": {},
   "source": [
    "#### define metric"
   ]
  },
  {
   "cell_type": "code",
   "execution_count": 10,
   "metadata": {},
   "outputs": [],
   "source": [
    "from src.main.baseline import RecoveryFromAshDistance\n",
    "\n",
    "ref_lat = np.median(all_candidates[:, 0]).item()\n",
    "ref_long = np.median(all_candidates[:, 1]).item()\n",
    "\n",
    "day_timestamp = 12\n",
    "\n",
    "distance_metric = RecoveryFromAshDistance(ref=(ref_lat, ref_long), day_time=day_timestamp)"
   ]
  },
  {
   "cell_type": "markdown",
   "metadata": {},
   "source": [
    "#### night time trajectory recovery"
   ]
  },
  {
   "cell_type": "code",
   "execution_count": 11,
   "metadata": {},
   "outputs": [
    {
     "name": "stderr",
     "output_type": "stream",
     "text": [
      "night time recovery: 100%|██████████| 15/15 [00:05<00:00,  2.88it/s]\n"
     ]
    }
   ],
   "source": [
    "from src.main.baseline import DailyTrajectoryRecovery, get_aggregated_observations\n",
    "\n",
    "predicted: list[list[Trajectory]] = [None] * len(test_trajectories)\n",
    "\n",
    "for i in tqdm.trange(0, len(test_trajectories), desc='night time recovery'):\n",
    "    trajectories = [Trajectory(t.points[:day_timestamp]) for t in test_trajectories[i].values()]\n",
    "\n",
    "    algorithm = DailyTrajectoryRecovery(\n",
    "        get_observations=lambda t: get_aggregated_observations(trajectories, t),\n",
    "        cost_matrix=distance_metric.compute,\n",
    "        sequence_length=day_timestamp,\n",
    "        sequence_count=len(trajectories)\n",
    "    )\n",
    "\n",
    "    algorithm.run(verbose=False)\n",
    "    predicted[i] = algorithm.get_predicted_trajectories()"
   ]
  },
  {
   "cell_type": "markdown",
   "metadata": {},
   "source": [
    "Evaluate"
   ]
  },
  {
   "cell_type": "code",
   "execution_count": 12,
   "metadata": {},
   "outputs": [
    {
     "name": "stderr",
     "output_type": "stream",
     "text": [
      "100%|██████████| 15/15 [00:04<00:00,  3.32it/s]"
     ]
    },
    {
     "name": "stdout",
     "output_type": "stream",
     "text": [
      "average accuracy: 0.9756132756132757\n",
      "average recovery error: 0.4658378744946642\n"
     ]
    },
    {
     "name": "stderr",
     "output_type": "stream",
     "text": [
      "\n"
     ]
    }
   ],
   "source": [
    "from src.eval.metrics import greedy_match, similarity, mean_distance\n",
    "\n",
    "avg_accuracy: float = 0\n",
    "avg_recovery_error: float = 0\n",
    "\n",
    "for predicted_trajectories, target_trajectories in tqdm.tqdm(zip(predicted, test_trajectories), total=len(predicted)):\n",
    "    target_trajectories = [Trajectory(t.points[:day_timestamp]) for t in target_trajectories.values()]\n",
    "    \n",
    "    indices = greedy_match(predicted_trajectories, target_trajectories)\n",
    "    n_trajectories = len(predicted_trajectories)\n",
    "\n",
    "    accuracy = similarity(\n",
    "        np.array(predicted_trajectories),\n",
    "        np.array(target_trajectories)[indices]\n",
    "    ).mean()\n",
    "\n",
    "    recovery_error = mean_distance(\n",
    "        np.array(predicted_trajectories),\n",
    "        np.array(target_trajectories)[indices]\n",
    "    ).mean() / 1000\n",
    "\n",
    "    avg_accuracy += accuracy / len(test_trajectories)\n",
    "    avg_recovery_error += recovery_error / len(test_trajectories)\n",
    "\n",
    "print(f'average accuracy: {avg_accuracy}')\n",
    "print(f'average recovery error: {avg_recovery_error}')"
   ]
  },
  {
   "cell_type": "markdown",
   "metadata": {},
   "source": [
    "#### single day trajectory recovery (night time + day time)"
   ]
  },
  {
   "cell_type": "code",
   "execution_count": 13,
   "metadata": {},
   "outputs": [
    {
     "name": "stderr",
     "output_type": "stream",
     "text": [
      "night + day recovery: 100%|██████████| 15/15 [00:24<00:00,  1.63s/it]\n"
     ]
    }
   ],
   "source": [
    "predicted: list[list[Trajectory]] = [None] * len(test_trajectories)\n",
    "\n",
    "for i in tqdm.trange(0, len(test_trajectories), desc='night + day recovery'):\n",
    "    trajectories = [Trajectory(t.points) for t in test_trajectories[i].values()]\n",
    "\n",
    "    algorithm = DailyTrajectoryRecovery(\n",
    "        get_observations=lambda t: get_aggregated_observations(trajectories, t),\n",
    "        cost_matrix=distance_metric.compute,\n",
    "        sequence_length=SEQ_LENGTH,\n",
    "        sequence_count=len(trajectories)\n",
    "    )\n",
    "\n",
    "    algorithm.run(verbose=False)\n",
    "    predicted[i] = algorithm.get_predicted_trajectories()"
   ]
  },
  {
   "cell_type": "markdown",
   "metadata": {},
   "source": [
    "Evaluate"
   ]
  },
  {
   "cell_type": "code",
   "execution_count": 14,
   "metadata": {},
   "outputs": [
    {
     "name": "stderr",
     "output_type": "stream",
     "text": [
      "100%|██████████| 15/15 [00:12<00:00,  1.22it/s]"
     ]
    },
    {
     "name": "stdout",
     "output_type": "stream",
     "text": [
      "average accuracy: 0.7547321959086666\n",
      "average recovery error: 4.827920460974783\n"
     ]
    },
    {
     "name": "stderr",
     "output_type": "stream",
     "text": [
      "\n"
     ]
    }
   ],
   "source": [
    "avg_accuracy: float = 0\n",
    "avg_recovery_error: float = 0\n",
    "\n",
    "for predicted_trajectories, target_trajectories in tqdm.tqdm(zip(predicted, test_trajectories), total=len(predicted)):\n",
    "    target_trajectories = [*target_trajectories.values()]\n",
    "    \n",
    "    indices = greedy_match(predicted_trajectories, target_trajectories)\n",
    "    n_trajectories = len(predicted_trajectories)\n",
    "\n",
    "    accuracy = similarity(\n",
    "        np.array(predicted_trajectories),\n",
    "        np.array(target_trajectories)[indices]\n",
    "    ).mean()\n",
    "\n",
    "    recovery_error = mean_distance(\n",
    "        np.array(predicted_trajectories),\n",
    "        np.array(target_trajectories)[indices]\n",
    "    ).mean() / 1000\n",
    "\n",
    "    avg_accuracy += accuracy / len(test_trajectories)\n",
    "    avg_recovery_error += recovery_error / len(test_trajectories)\n",
    "\n",
    "print(f'average accuracy: {avg_accuracy}')\n",
    "print(f'average recovery error: {avg_recovery_error}')"
   ]
  },
  {
   "cell_type": "markdown",
   "metadata": {},
   "source": [
    "### cross-day trajectory recovery"
   ]
  },
  {
   "cell_type": "code",
   "execution_count": 15,
   "metadata": {},
   "outputs": [
    {
     "data": {
      "text/plain": [
       "1309"
      ]
     },
     "execution_count": 15,
     "metadata": {},
     "output_type": "execute_result"
    }
   ],
   "source": [
    "from src.utils import set_intersect\n",
    "\n",
    "persistent_users = set_intersect(*(trajectories.keys() for trajectories in test_trajectories))\n",
    "\n",
    "persistent_trajectories: list[dict[str, Trajectory]] = [None] * len(test_trajectories)\n",
    "\n",
    "for i in range(len(test_trajectories)):\n",
    "    persistent_trajectories[i] = {\n",
    "        uid: trajectory\n",
    "        for uid, trajectory in test_trajectories[i].items()\n",
    "        if uid in persistent_users\n",
    "    }\n",
    "\n",
    "len(persistent_users)"
   ]
  },
  {
   "cell_type": "markdown",
   "metadata": {},
   "source": [
    "single day trajectory recovery"
   ]
  },
  {
   "cell_type": "code",
   "execution_count": 16,
   "metadata": {},
   "outputs": [
    {
     "name": "stderr",
     "output_type": "stream",
     "text": [
      "night + day recovery: 100%|██████████| 15/15 [00:26<00:00,  1.74s/it]\n"
     ]
    }
   ],
   "source": [
    "predicted: list[list[Trajectory]] = [None] * len(persistent_trajectories)\n",
    "\n",
    "for i in tqdm.trange(0, len(persistent_trajectories), desc='night + day recovery'):\n",
    "    trajectories = [Trajectory(t.points) for t in persistent_trajectories[i].values()]\n",
    "\n",
    "    algorithm = DailyTrajectoryRecovery(\n",
    "        get_observations=lambda t: get_aggregated_observations(trajectories, t),\n",
    "        cost_matrix=distance_metric.compute,\n",
    "        sequence_length=SEQ_LENGTH,\n",
    "        sequence_count=len(trajectories)\n",
    "    )\n",
    "\n",
    "    algorithm.run(verbose=False)\n",
    "    predicted[i] = algorithm.get_predicted_trajectories()"
   ]
  },
  {
   "cell_type": "markdown",
   "metadata": {},
   "source": [
    "cross-day recovery"
   ]
  },
  {
   "cell_type": "code",
   "execution_count": 17,
   "metadata": {},
   "outputs": [
    {
     "name": "stderr",
     "output_type": "stream",
     "text": [
      "cross-day recovery:   0%|          | 0/14 [00:00<?, ?it/s]c:\\users\\chinp\\source\\neural-trajectory-model\\src\\main\\baseline.py:333: RuntimeWarning: divide by zero encountered in log\n",
      "  return -np.nansum(np.log(counts) * counts, axis=-1)\n",
      "c:\\users\\chinp\\source\\neural-trajectory-model\\src\\main\\baseline.py:333: RuntimeWarning: invalid value encountered in multiply\n",
      "  return -np.nansum(np.log(counts) * counts, axis=-1)\n",
      "cross-day recovery: 100%|██████████| 14/14 [01:07<00:00,  4.83s/it]\n"
     ]
    }
   ],
   "source": [
    "from src.main.baseline import DenseCrossDayTrajectoryRecovery\n",
    "from src.ml.dataset import create_point_to_class_map\n",
    "\n",
    "point_to_index = create_point_to_class_map(all_candidates)\n",
    "\n",
    "algorithm = DenseCrossDayTrajectoryRecovery(predicted, point_to_index, chunk_size=100)\n",
    "algorithm.run()\n",
    "\n",
    "predicted_trajectories = algorithm.result"
   ]
  },
  {
   "cell_type": "markdown",
   "metadata": {},
   "source": [
    "Evaluate"
   ]
  },
  {
   "cell_type": "code",
   "execution_count": 18,
   "metadata": {},
   "outputs": [
    {
     "name": "stdout",
     "output_type": "stream",
     "text": [
      "average accuracy: 0.6469081572022748\n",
      "average recovery error: 6.597467505775626\n"
     ]
    },
    {
     "data": {
      "text/plain": [
       "Text(0.5, 0, 'recovery error (km)')"
      ]
     },
     "execution_count": 18,
     "metadata": {},
     "output_type": "execute_result"
    },
    {
     "data": {
      "image/png": "[encoded data removed]",
      "text/plain": [
       "<Figure size 640x480 with 1 Axes>"
      ]
     },
     "metadata": {},
     "output_type": "display_data"
    }
   ],
   "source": [
    "import copy\n",
    "from src.eval.metrics import similarity, mean_distance\n",
    "\n",
    "# merge target trajectories\n",
    "target_trajectories = copy.deepcopy(persistent_trajectories[0])\n",
    "\n",
    "for uid, trajectory in target_trajectories.items():\n",
    "    for i in range(1, len(persistent_trajectories)):\n",
    "        trajectory.points += persistent_trajectories[i][uid].points\n",
    "\n",
    "target_trajectories = [*target_trajectories.values()]\n",
    "\n",
    "indices = greedy_match(predicted_trajectories, target_trajectories)\n",
    "\n",
    "accuracy = similarity(\n",
    "    np.array(predicted_trajectories),\n",
    "    np.array(target_trajectories)[indices]\n",
    ").mean()\n",
    "\n",
    "print(f'average accuracy: {accuracy}')\n",
    "\n",
    "distances = mean_distance(\n",
    "    np.array(predicted_trajectories),\n",
    "    np.array(target_trajectories)[indices]\n",
    ") / 1000\n",
    "\n",
    "print(f'average recovery error: {distances.mean()}')\n",
    "\n",
    "plt.title('distribution of recovery error')\n",
    "plt.hist(distances, cumulative=True, density=True, histtype='step')\n",
    "plt.ylabel('frequency')\n",
    "plt.xlabel('recovery error (km)')"
   ]
  },
  {
   "cell_type": "code",
   "execution_count": 19,
   "metadata": {},
   "outputs": [
    {
     "name": "stdout",
     "output_type": "stream",
     "text": [
      "[0.0007639419404125286, 0.2192513368983957, 0.413292589763178, 0.48128342245989303, 0.4935064935064935]\n"
     ]
    },
    {
     "data": {
      "text/plain": [
       "Text(0, 0.5, 'unique percentage')"
      ]
     },
     "execution_count": 19,
     "metadata": {},
     "output_type": "execute_result"
    },
    {
     "data": {
      "image/png": "[encoded data removed]",
      "text/plain": [
       "<Figure size 640x480 with 1 Axes>"
      ]
     },
     "metadata": {},
     "output_type": "display_data"
    }
   ],
   "source": [
    "from src.eval.metrics import uniqueness_list\n",
    "\n",
    "uniqueness = [uniqueness_list(predicted_trajectories, i + 1) for i in range(5)]\n",
    "print(uniqueness)\n",
    "\n",
    "plt.plot([str(i + 1) for i in range(5)], uniqueness, marker='o')\n",
    "plt.title('uniqueness')\n",
    "plt.xlabel('no. of top locations')\n",
    "plt.ylabel('unique percentage')"
   ]
  },
  {
   "cell_type": "markdown",
   "metadata": {},
   "source": [
    "### Result\n",
    "\n",
    "all persistent users (~1.3k users in total):\n",
    "\n",
    "| Step | Accuracy (%) | Recovery Error (km) |\n",
    "|------|----------|----------------|\n",
    "| 1 | 98 | 0.47 |\n",
    "| 2 | 75 | 4.8 | \n",
    "| 3 | 65 | 6.6 |\n",
    "\n",
    "<br>\n",
    "\n",
    "| k | Uniqueness |\n",
    "|---|------------|\n",
    "| 1 | 0.0 |\n",
    "| 2 | 0.22 |\n",
    "| 3 | 0.41 |\n",
    "| 4 | 0.48 |\n",
    "| 5 | 0.49 |"
   ]
  },
  {
   "cell_type": "markdown",
   "metadata": {},
   "source": [
    "## deep learning"
   ]
  },
  {
   "cell_type": "markdown",
   "metadata": {},
   "source": [
    "### load trained model\n",
    "\n",
    "load model trained by self-supervision."
   ]
  },
  {
   "cell_type": "code",
   "execution_count": 20,
   "metadata": {},
   "outputs": [],
   "source": [
    "from src.ml.model import TrajectoryModel\n",
    "from src.ml.model.modules import TransformerTrajectoryEncoder, BaseStationEmbedding\n",
    "from src.ml.checkpoint import DEFAULT_CHECKPOINT_DIR\n",
    "\n",
    "model_dim = 128\n",
    "\n",
    "base_station_embedding = BaseStationEmbedding(\n",
    "    feat_dim=(2, 64),\n",
    "    context_dim=(31, 48),\n",
    "    out_dim=model_dim,\n",
    "    layer_norm=True\n",
    ")\n",
    "\n",
    "trajectory_encoder = TransformerTrajectoryEncoder(\n",
    "    in_dim=model_dim,\n",
    "    max_len=SEQ_LENGTH,\n",
    "    hid_dim=(model_dim, model_dim * 2, 8),\n",
    "    do_prob=0.2,\n",
    "    n_blocks=4,\n",
    ")\n",
    "\n",
    "model = TrajectoryModel(\n",
    "    base_station_embedding=base_station_embedding,\n",
    "    trajectory_encoder=trajectory_encoder,\n",
    ")\n",
    "\n",
    "model.load_state_dict(torch.load(f'{DEFAULT_CHECKPOINT_DIR}/sh30-c100_best.pt')['model'])\n",
    "model.eval()\n",
    "\n",
    "if USE_CUDA:\n",
    "    model.cuda()\n",
    "    torch_device = torch.device('cuda', 0)\n",
    "else:\n",
    "    torch_device = torch.device('cpu')"
   ]
  },
  {
   "cell_type": "markdown",
   "metadata": {},
   "source": [
    "### Define pre-process pipeline"
   ]
  },
  {
   "cell_type": "code",
   "execution_count": 21,
   "metadata": {},
   "outputs": [],
   "source": [
    "from src.ml.utils import create_shanghai_preprocessor, to_cartesian\n",
    "\n",
    "all_candidates_100 = torch.tensor(np.load(f'{ROOT}/exploratory_analysis/mog_100.npy'), dtype=torch.float32)\n",
    "ref_lat = all_candidates_100[:, 0].median()\n",
    "ref_long = all_candidates_100[:, 1].median()\n",
    "\n",
    "all_candidates_cart = to_cartesian(all_candidates_100, ref_point=(ref_lat, ref_long))\n",
    "min_x, max_x = all_candidates_cart[:, 0].min().item(), all_candidates_cart[:, 0].max().item()\n",
    "min_y, max_y = all_candidates_cart[:, 1].min().item(), all_candidates_cart[:, 1].max().item()\n",
    "del all_candidates_cart\n",
    "del all_candidates_100\n",
    "\n",
    "preprocess = create_shanghai_preprocessor(\n",
    "    x_range=(min_x, max_x),\n",
    "    y_range=(min_y, max_y),\n",
    "    ref_point=(ref_lat, ref_long)\n",
    ")"
   ]
  },
  {
   "cell_type": "markdown",
   "metadata": {},
   "source": [
    "### night time recovery"
   ]
  },
  {
   "cell_type": "code",
   "execution_count": 22,
   "metadata": {},
   "outputs": [
    {
     "name": "stderr",
     "output_type": "stream",
     "text": [
      "night time recovery:   0%|          | 0/15 [00:00<?, ?it/s]c:\\Users\\chinp\\source\\neural-trajectory-model\\venv\\lib\\site-packages\\torch\\nn\\modules\\transformer.py:720: UserWarning: 1Torch was not compiled with flash attention. (Triggered internally at C:\\actions-runner\\_work\\pytorch\\pytorch\\builder\\windows\\pytorch\\aten\\src\\ATen\\native\\transformers\\cuda\\sdp_utils.cpp:455.)\n",
      "  return torch._transformer_encoder_layer_fwd(\n",
      "night time recovery: 100%|██████████| 15/15 [00:08<00:00,  1.71it/s]\n"
     ]
    }
   ],
   "source": [
    "from src.ml.dataset import get_shanghai_date\n",
    "from src.main.ml import create_trajectory_model_cost_matrix_fn\n",
    "\n",
    "predicted: list[list[Trajectory]] = [None] * len(test_trajectories)\n",
    "\n",
    "for i in tqdm.trange(0, len(test_trajectories), desc='night time recovery'):\n",
    "    trajectories = [Trajectory(t.points[:day_timestamp]) for t in test_trajectories[i].values()]\n",
    "    trajectory_date = get_shanghai_date(test_files[i])\n",
    "\n",
    "    neural_metric = create_trajectory_model_cost_matrix_fn(\n",
    "        model=model,\n",
    "        preprocess=preprocess,\n",
    "        weekday=trajectory_date.weekday(),\n",
    "        trajectory_len=day_timestamp,\n",
    "        device=torch_device\n",
    "    )\n",
    "\n",
    "    algorithm = DailyTrajectoryRecovery(\n",
    "        get_observations=lambda t: get_aggregated_observations(trajectories, t),\n",
    "        cost_matrix=neural_metric,\n",
    "        sequence_length=day_timestamp,\n",
    "        sequence_count=len(trajectories)\n",
    "    )\n",
    "\n",
    "    algorithm.run(verbose=False)\n",
    "    predicted[i] = algorithm.get_predicted_trajectories()"
   ]
  },
  {
   "cell_type": "markdown",
   "metadata": {},
   "source": [
    "Evaluate"
   ]
  },
  {
   "cell_type": "code",
   "execution_count": 23,
   "metadata": {},
   "outputs": [
    {
     "name": "stderr",
     "output_type": "stream",
     "text": [
      "100%|██████████| 15/15 [00:04<00:00,  3.41it/s]"
     ]
    },
    {
     "name": "stdout",
     "output_type": "stream",
     "text": [
      "average accuracy: 0.9758594346829642\n",
      "average recovery error: 0.5145281437625973\n"
     ]
    },
    {
     "name": "stderr",
     "output_type": "stream",
     "text": [
      "\n"
     ]
    }
   ],
   "source": [
    "avg_accuracy: float = 0\n",
    "avg_recovery_error: float = 0\n",
    "\n",
    "for predicted_trajectories, target_trajectories in tqdm.tqdm(zip(predicted, test_trajectories), total=len(predicted)):\n",
    "    target_trajectories = [Trajectory(t.points[:day_timestamp]) for t in target_trajectories.values()]\n",
    "    \n",
    "    indices = greedy_match(predicted_trajectories, target_trajectories)\n",
    "    n_trajectories = len(predicted_trajectories)\n",
    "\n",
    "    accuracy = similarity(\n",
    "        np.array(predicted_trajectories),\n",
    "        np.array(target_trajectories)[indices]\n",
    "    ).mean()\n",
    "\n",
    "    recovery_error = mean_distance(\n",
    "        np.array(predicted_trajectories),\n",
    "        np.array(target_trajectories)[indices]\n",
    "    ).mean() / 1000\n",
    "\n",
    "    avg_accuracy += accuracy / len(test_trajectories)\n",
    "    avg_recovery_error += recovery_error / len(test_trajectories)\n",
    "\n",
    "print(f'average accuracy: {avg_accuracy}')\n",
    "print(f'average recovery error: {avg_recovery_error}')"
   ]
  },
  {
   "cell_type": "markdown",
   "metadata": {},
   "source": [
    "### single day recovery"
   ]
  },
  {
   "cell_type": "code",
   "execution_count": 24,
   "metadata": {},
   "outputs": [
    {
     "name": "stderr",
     "output_type": "stream",
     "text": [
      "night + day recovery: 100%|██████████| 15/15 [00:47<00:00,  3.19s/it]\n"
     ]
    }
   ],
   "source": [
    "predicted: list[list[Trajectory]] = [None] * len(test_trajectories)\n",
    "\n",
    "for i in tqdm.trange(0, len(test_trajectories), desc='night + day recovery'):\n",
    "    trajectories = [Trajectory(t.points) for t in test_trajectories[i].values()]\n",
    "    trajectory_date = get_shanghai_date(test_files[i])\n",
    "\n",
    "    neural_metric = create_trajectory_model_cost_matrix_fn(\n",
    "        model=model,\n",
    "        preprocess=preprocess,\n",
    "        weekday=trajectory_date.weekday(),\n",
    "        trajectory_len=SEQ_LENGTH,\n",
    "        device=torch_device\n",
    "    )\n",
    "\n",
    "    algorithm = DailyTrajectoryRecovery(\n",
    "        get_observations=lambda t: get_aggregated_observations(trajectories, t),\n",
    "        cost_matrix=neural_metric,\n",
    "        sequence_length=SEQ_LENGTH,\n",
    "        sequence_count=len(trajectories)\n",
    "    )\n",
    "\n",
    "    algorithm.run(verbose=False)\n",
    "    predicted[i] = algorithm.get_predicted_trajectories()"
   ]
  },
  {
   "cell_type": "markdown",
   "metadata": {},
   "source": [
    "Evaluate"
   ]
  },
  {
   "cell_type": "code",
   "execution_count": 25,
   "metadata": {},
   "outputs": [
    {
     "name": "stderr",
     "output_type": "stream",
     "text": [
      "100%|██████████| 15/15 [00:09<00:00,  1.64it/s]"
     ]
    },
    {
     "name": "stdout",
     "output_type": "stream",
     "text": [
      "average accuracy: 0.7802743824802647\n",
      "average recovery error: 3.7403324326188447\n"
     ]
    },
    {
     "name": "stderr",
     "output_type": "stream",
     "text": [
      "\n"
     ]
    }
   ],
   "source": [
    "avg_accuracy: float = 0\n",
    "avg_recovery_error: float = 0\n",
    "\n",
    "for predicted_trajectories, target_trajectories in tqdm.tqdm(zip(predicted, test_trajectories), total=len(predicted)):\n",
    "    target_trajectories = [*target_trajectories.values()]\n",
    "    \n",
    "    indices = greedy_match(predicted_trajectories, target_trajectories)\n",
    "    n_trajectories = len(predicted_trajectories)\n",
    "\n",
    "    accuracy = similarity(\n",
    "        np.array(predicted_trajectories),\n",
    "        np.array(target_trajectories)[indices]\n",
    "    ).mean()\n",
    "\n",
    "    recovery_error = mean_distance(\n",
    "        np.array(predicted_trajectories),\n",
    "        np.array(target_trajectories)[indices]\n",
    "    ).mean() / 1000\n",
    "\n",
    "    avg_accuracy += accuracy / len(test_trajectories)\n",
    "    avg_recovery_error += recovery_error / len(test_trajectories)\n",
    "\n",
    "print(f'average accuracy: {avg_accuracy}')\n",
    "print(f'average recovery error: {avg_recovery_error}')"
   ]
  },
  {
   "cell_type": "markdown",
   "metadata": {},
   "source": [
    "### Cross day trajectory recovery"
   ]
  },
  {
   "cell_type": "code",
   "execution_count": 26,
   "metadata": {},
   "outputs": [
    {
     "data": {
      "text/plain": [
       "1309"
      ]
     },
     "execution_count": 26,
     "metadata": {},
     "output_type": "execute_result"
    }
   ],
   "source": [
    "from src.utils import set_intersect\n",
    "\n",
    "persistent_users = set_intersect(*(trajectories.keys() for trajectories in test_trajectories))\n",
    "\n",
    "persistent_trajectories: list[dict[str, Trajectory]] = [None] * len(test_trajectories)\n",
    "\n",
    "for i in range(len(test_trajectories)):\n",
    "    persistent_trajectories[i] = {\n",
    "        uid: trajectory\n",
    "        for uid, trajectory in test_trajectories[i].items()\n",
    "        if uid in persistent_users\n",
    "    }\n",
    "\n",
    "len(persistent_users)"
   ]
  },
  {
   "cell_type": "markdown",
   "metadata": {},
   "source": [
    "single day trajectory recovery"
   ]
  },
  {
   "cell_type": "code",
   "execution_count": 27,
   "metadata": {},
   "outputs": [
    {
     "name": "stderr",
     "output_type": "stream",
     "text": [
      "night + day recovery: 100%|██████████| 15/15 [00:45<00:00,  3.04s/it]\n"
     ]
    }
   ],
   "source": [
    "predicted: list[list[Trajectory]] = [None] * len(persistent_trajectories)\n",
    "\n",
    "for i in tqdm.trange(0, len(persistent_trajectories), desc='night + day recovery'):\n",
    "    trajectories = [Trajectory(t.points) for t in persistent_trajectories[i].values()]\n",
    "    trajectory_date = get_shanghai_date(test_files[i])\n",
    "\n",
    "    neural_metric = create_trajectory_model_cost_matrix_fn(\n",
    "        model=model,\n",
    "        preprocess=preprocess,\n",
    "        weekday=trajectory_date.weekday(),\n",
    "        trajectory_len=SEQ_LENGTH,\n",
    "        device=torch_device\n",
    "    )\n",
    "\n",
    "    algorithm = DailyTrajectoryRecovery(\n",
    "        get_observations=lambda t: get_aggregated_observations(trajectories, t),\n",
    "        cost_matrix=neural_metric,\n",
    "        sequence_length=SEQ_LENGTH,\n",
    "        sequence_count=len(trajectories)\n",
    "    )\n",
    "\n",
    "    algorithm.run(verbose=False)\n",
    "    predicted[i] = algorithm.get_predicted_trajectories()"
   ]
  },
  {
   "cell_type": "markdown",
   "metadata": {},
   "source": [
    "cross-day recovery"
   ]
  },
  {
   "cell_type": "code",
   "execution_count": 28,
   "metadata": {},
   "outputs": [
    {
     "name": "stderr",
     "output_type": "stream",
     "text": [
      "cross-day recovery: 100%|██████████| 14/14 [01:02<00:00,  4.45s/it]\n"
     ]
    }
   ],
   "source": [
    "from src.main.baseline import DenseCrossDayTrajectoryRecovery\n",
    "\n",
    "algorithm = DenseCrossDayTrajectoryRecovery(predicted, point_to_index, chunk_size=100)\n",
    "algorithm.run()\n",
    "\n",
    "predicted_trajectories = algorithm.result"
   ]
  },
  {
   "cell_type": "markdown",
   "metadata": {},
   "source": [
    "Evaluation"
   ]
  },
  {
   "cell_type": "code",
   "execution_count": 29,
   "metadata": {},
   "outputs": [
    {
     "name": "stdout",
     "output_type": "stream",
     "text": [
      "average accuracy: 0.6795518207282913\n",
      "average recovery error: 5.304508941634725\n"
     ]
    },
    {
     "data": {
      "text/plain": [
       "Text(0.5, 0, 'recovery error (km)')"
      ]
     },
     "execution_count": 29,
     "metadata": {},
     "output_type": "execute_result"
    },
    {
     "data": {
      "image/png": "[encoded data removed]",
      "text/plain": [
       "<Figure size 640x480 with 1 Axes>"
      ]
     },
     "metadata": {},
     "output_type": "display_data"
    }
   ],
   "source": [
    "# merge target trajectories\n",
    "target_trajectories = copy.deepcopy(persistent_trajectories[0])\n",
    "\n",
    "for uid, trajectory in target_trajectories.items():\n",
    "    for i in range(1, len(persistent_trajectories)):\n",
    "        trajectory.points += persistent_trajectories[i][uid].points\n",
    "\n",
    "target_trajectories = [*target_trajectories.values()]\n",
    "\n",
    "indices = greedy_match(predicted_trajectories, target_trajectories)\n",
    "\n",
    "accuracy = similarity(\n",
    "    np.array(predicted_trajectories),\n",
    "    np.array(target_trajectories)[indices]\n",
    ").mean()\n",
    "\n",
    "print(f'average accuracy: {accuracy}')\n",
    "\n",
    "distances_ml = mean_distance(\n",
    "    np.array(predicted_trajectories),\n",
    "    np.array(target_trajectories)[indices]\n",
    ") / 1000\n",
    "\n",
    "print(f'average recovery error: {distances_ml.mean()}')\n",
    "\n",
    "plt.title('distribution of recovery error')\n",
    "plt.hist(distances_ml, cumulative=True, density=True, histtype='step')\n",
    "plt.ylabel('frequency')\n",
    "plt.xlabel('recovery error (km)')"
   ]
  },
  {
   "cell_type": "markdown",
   "metadata": {},
   "source": [
    "plot uniqueness"
   ]
  },
  {
   "cell_type": "code",
   "execution_count": 30,
   "metadata": {},
   "outputs": [
    {
     "name": "stdout",
     "output_type": "stream",
     "text": [
      "[0.0, 0.09472880061115355, 0.23911382734912145, 0.2979373567608862, 0.3200916730328495]\n"
     ]
    },
    {
     "data": {
      "text/plain": [
       "Text(0, 0.5, 'unique percentage')"
      ]
     },
     "execution_count": 30,
     "metadata": {},
     "output_type": "execute_result"
    },
    {
     "data": {
      "image/png": "[encoded data removed]",
      "text/plain": [
       "<Figure size 640x480 with 1 Axes>"
      ]
     },
     "metadata": {},
     "output_type": "display_data"
    }
   ],
   "source": [
    "uniqueness = [uniqueness_list(predicted_trajectories, i + 1) for i in range(5)]\n",
    "print(uniqueness)\n",
    "\n",
    "plt.plot([str(i + 1) for i in range(5)], uniqueness, marker='o')\n",
    "plt.title('uniqueness')\n",
    "plt.xlabel('no. of top locations')\n",
    "plt.ylabel('unique percentage')"
   ]
  },
  {
   "cell_type": "markdown",
   "metadata": {},
   "source": [
    "### Result\n",
    "\n",
    "all persistent users (~1.3k users in total):\n",
    "\n",
    "| Step | Accuracy (%) | Recovery Error (km) |\n",
    "|------|----------|----------------|\n",
    "| 1 | 98 | 0.51 |\n",
    "| 2 | 78 | 3.7 | \n",
    "| 3 | 68 | 5.3 |\n",
    "\n",
    "<br>\n",
    "\n",
    "| k | Uniqueness |\n",
    "|---|------------|\n",
    "| 1 | 0.0 |\n",
    "| 2 | 0.095 |\n",
    "| 3 | 0.24 |\n",
    "| 4 | 0.30 |\n",
    "| 5 | 0.32 |"
   ]
  },
  {
   "cell_type": "markdown",
   "metadata": {},
   "source": [
    "#### plot accuracy\n",
    "\n",
    "Both methods using dataset with 50 clusters perform better than the dataset with 100 clusters. This coincide with the result in Trajectory Recovery from Ash."
   ]
  },
  {
   "cell_type": "code",
   "execution_count": 31,
   "metadata": {},
   "outputs": [
    {
     "data": {
      "text/plain": [
       "<matplotlib.legend.Legend at 0x284c2d65550>"
      ]
     },
     "execution_count": 31,
     "metadata": {},
     "output_type": "execute_result"
    },
    {
     "data": {
      "image/png": "[encoded data removed]",
      "text/plain": [
       "<Figure size 640x480 with 1 Axes>"
      ]
     },
     "metadata": {},
     "output_type": "display_data"
    }
   ],
   "source": [
    "plt.plot(['#1', '#2', '#3'], [0.98, 0.78, 0.68], marker='o', label='transformer')\n",
    "plt.plot(['#1', '#2', '#3'], [0.98, 0.75, 0.65], marker='o', label='baseline')\n",
    "\n",
    "plt.ylabel('accuracy')\n",
    "plt.xlabel('stage of attack')\n",
    "plt.ylim((0, 1))\n",
    "plt.legend()"
   ]
  },
  {
   "cell_type": "markdown",
   "metadata": {},
   "source": [
    "#### plot uniqueness\n",
    "\n",
    "Trajectories recovered by our algorithm have a significantly lower uniqueness than the baseline. This indicates that the predicted trajectories are less identifiable. We hypothesize that this is due to the neural network predicting likelihoods based on common crowd behaviors in the training set."
   ]
  },
  {
   "cell_type": "code",
   "execution_count": 34,
   "metadata": {},
   "outputs": [
    {
     "data": {
      "text/plain": [
       "Text(0, 0.5, 'uniqueness')"
      ]
     },
     "execution_count": 34,
     "metadata": {},
     "output_type": "execute_result"
    },
    {
     "data": {
      "image/png": "[encoded data removed]",
      "text/plain": [
       "<Figure size 640x480 with 1 Axes>"
      ]
     },
     "metadata": {},
     "output_type": "display_data"
    }
   ],
   "source": [
    "# merge target trajectories\n",
    "target_trajectories = copy.deepcopy(persistent_trajectories[0])\n",
    "\n",
    "for uid, trajectory in target_trajectories.items():\n",
    "    for i in range(1, len(persistent_trajectories)):\n",
    "        trajectory.points += persistent_trajectories[i][uid].points\n",
    "\n",
    "target_trajectories = [*target_trajectories.values()]\n",
    "\n",
    "ground_truth_uniqueness = [ uniqueness_list(target_trajectories, k + 1) for k in range(5) ]\n",
    "\n",
    "plt.plot(['1', '2', '3', '4', '5'], [0.0, 0.09472880061115355, 0.23911382734912145, 0.2979373567608862, 0.3200916730328495], marker='o', label='transformer')\n",
    "plt.plot(['1', '2', '3', '4', '5'], [0.0007639419404125286, 0.2192513368983957, 0.413292589763178, 0.48128342245989303, 0.4935064935064935], marker='o', label='baseline')\n",
    "plt.plot(['1', '2', '3', '4', '5'], ground_truth_uniqueness, marker='o', label='ground truth')\n",
    "\n",
    "plt.legend()\n",
    "plt.xlabel('no. of top locations')\n",
    "plt.ylabel('uniqueness')"
   ]
  },
  {
   "cell_type": "code",
   "execution_count": 33,
   "metadata": {},
   "outputs": [
    {
     "data": {
      "text/plain": [
       "<matplotlib.legend.Legend at 0x284c2307550>"
      ]
     },
     "execution_count": 33,
     "metadata": {},
     "output_type": "execute_result"
    },
    {
     "data": {
      "image/png": "[encoded data removed]",
      "text/plain": [
       "<Figure size 640x480 with 1 Axes>"
      ]
     },
     "metadata": {},
     "output_type": "display_data"
    }
   ],
   "source": [
    "plt.title('distribution of recovery error')\n",
    "plt.hist(distances_ml, cumulative=True, density=True, histtype='step', label='transformer')\n",
    "plt.hist(distances, cumulative=True, density=True, histtype='step', label='baseline')\n",
    "plt.ylabel('frequency')\n",
    "plt.xlabel('recovery error (km)')\n",
    "plt.legend()"
   ]
  }
 ],
 "metadata": {
  "kernelspec": {
   "display_name": "venv",
   "language": "python",
   "name": "python3"
  },
  "language_info": {
   "codemirror_mode": {
    "name": "ipython",
    "version": 3
   },
   "file_extension": ".py",
   "mimetype": "text/x-python",
   "name": "python",
   "nbconvert_exporter": "python",
   "pygments_lexer": "ipython3",
   "version": "3.9.0"
  }
 },
 "nbformat": 4,
 "nbformat_minor": 2
}

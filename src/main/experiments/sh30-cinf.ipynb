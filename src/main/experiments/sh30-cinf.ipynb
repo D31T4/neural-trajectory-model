{
 "cells": [
  {
   "cell_type": "markdown",
   "metadata": {},
   "source": [
    "# Experiment\n",
    "\n",
    "Dataset: Shanghai Telecom dataset discretize on 30 minute inverval. No filter and spatial aggregation"
   ]
  },
  {
   "cell_type": "markdown",
   "metadata": {},
   "source": [
    "## Requirements\n",
    "\n",
    "- Pre-processed dataset located at `{ROOT}/data/sh30-cinf`\n",
    "- Pre-computed 100 clusters located at `{ROOT}/data/exploratory_analysis/mog_100.npy`"
   ]
  },
  {
   "cell_type": "markdown",
   "metadata": {},
   "source": [
    "## Import and constants"
   ]
  },
  {
   "cell_type": "code",
   "execution_count": 1,
   "metadata": {},
   "outputs": [],
   "source": [
    "import torch\n",
    "import torch.nn as nn\n",
    "import torch.nn.functional as F\n",
    "\n",
    "import tqdm\n",
    "import math\n",
    "import pandas as pd\n",
    "import numpy as np\n",
    "import matplotlib.pyplot as plt\n",
    "import random\n",
    "\n",
    "from src.path import ROOT\n",
    "\n",
    "# trajectory length\n",
    "SEQ_LENGTH: int = 48\n",
    "\n",
    "# cuda flag\n",
    "USE_CUDA: bool = True\n",
    "\n",
    "if USE_CUDA and not torch.cuda.is_available():\n",
    "    USE_CUDA = False\n",
    "    print('fallback to cpu as CUDA is not available on this device')"
   ]
  },
  {
   "cell_type": "markdown",
   "metadata": {},
   "source": [
    "## Define dataset"
   ]
  },
  {
   "cell_type": "markdown",
   "metadata": {},
   "source": [
    "### define path\n",
    "\n",
    "Change the path variable here if you place your dataset files in a different location."
   ]
  },
  {
   "cell_type": "code",
   "execution_count": 8,
   "metadata": {},
   "outputs": [],
   "source": [
    "cluster_path = f'{ROOT}/exploratory_analysis/mog_100.npy'\n",
    "dataset_path = str(ROOT.joinpath('data/sh30-cinf'))"
   ]
  },
  {
   "cell_type": "markdown",
   "metadata": {},
   "source": [
    "### split dataset\n",
    "\n",
    "Split to pre-defined training set and test set"
   ]
  },
  {
   "cell_type": "code",
   "execution_count": 9,
   "metadata": {},
   "outputs": [],
   "source": [
    "import os\n",
    "from datetime import date\n",
    "\n",
    "from src.data_preprocess.trajectory import from_dataframe\n",
    "from src.ml.dataset import get_shanghai_date\n",
    "\n",
    "file_list = os.listdir(dataset_path)\n",
    "\n",
    "def is_test(fname: str):\n",
    "    '''\n",
    "    returns True if file belongs to test set\n",
    "    '''\n",
    "    fdate = get_shanghai_date(fname)\n",
    "    ref_date = date(2014, 6, 18)\n",
    "    return fdate >= ref_date and (fdate - ref_date).days < 15\n",
    "\n",
    "\n",
    "test_files = [fname for fname in file_list if is_test(fname)]\n",
    "train_files = [fname for fname in file_list if not is_test(fname)]"
   ]
  },
  {
   "cell_type": "markdown",
   "metadata": {},
   "source": [
    "### read basestations"
   ]
  },
  {
   "cell_type": "code",
   "execution_count": 10,
   "metadata": {},
   "outputs": [],
   "source": [
    "all_candidates: np.ndarray = np.load(cluster_path)"
   ]
  },
  {
   "cell_type": "markdown",
   "metadata": {},
   "source": [
    "### load dataset\n",
    "\n",
    "Load dataset files into in-memory."
   ]
  },
  {
   "cell_type": "code",
   "execution_count": 23,
   "metadata": {},
   "outputs": [
    {
     "name": "stderr",
     "output_type": "stream",
     "text": [
      "100%|██████████| 15/15 [00:43<00:00,  2.91s/it]\n"
     ]
    }
   ],
   "source": [
    "from src.data_preprocess.trajectory import from_dataframe, Trajectory\n",
    "\n",
    "def read_csv(fname: str):\n",
    "    # https://stackoverflow.com/questions/36909368/precision-lost-while-using-read-csv-in-pandas#:~:text=Pandas%20uses%20a%20dedicated%20decimal-to-binary%20converter%20that%20sacrifices,of%20speed.%20Passing%20float_precision%3D%27round_trip%27%20to%20read_csv%20fixes%20this.\n",
    "    df = pd.read_csv(f'{dataset_path}/{fname}', float_precision='round_trip')\n",
    "    return from_dataframe(df, SEQ_LENGTH)\n",
    "\n",
    "test_trajectories: list[dict[str, Trajectory]] = [None] * len(test_files)\n",
    "\n",
    "for i in tqdm.trange(len(test_files)):\n",
    "    fname = test_files[i]\n",
    "    test_trajectories[i] = read_csv(fname)"
   ]
  },
  {
   "cell_type": "markdown",
   "metadata": {},
   "source": [
    "Optional: remove stationary users"
   ]
  },
  {
   "cell_type": "code",
   "execution_count": 24,
   "metadata": {},
   "outputs": [],
   "source": [
    "min_unique_loc_count = 3\n",
    "\n",
    "for i in range(len(test_trajectories)):\n",
    "    test_trajectories[i] = {\n",
    "        uid: trajectory\n",
    "        for uid, trajectory in test_trajectories[i].items()\n",
    "        if len(set(trajectory.points)) >= min_unique_loc_count\n",
    "    }"
   ]
  },
  {
   "cell_type": "markdown",
   "metadata": {},
   "source": [
    "Optional: remove non-persistent users"
   ]
  },
  {
   "cell_type": "code",
   "execution_count": 25,
   "metadata": {},
   "outputs": [
    {
     "data": {
      "text/plain": [
       "193"
      ]
     },
     "execution_count": 25,
     "metadata": {},
     "output_type": "execute_result"
    }
   ],
   "source": [
    "from src.utils import set_intersect\n",
    "\n",
    "persistent_users = set_intersect(*(trajectories.keys() for trajectories in test_trajectories))\n",
    "\n",
    "for i in range(len(test_trajectories)):\n",
    "    test_trajectories[i] = {\n",
    "        uid: trajectory\n",
    "        for uid, trajectory in test_trajectories[i].items()\n",
    "        if uid in persistent_users\n",
    "    }\n",
    "\n",
    "len(persistent_users)"
   ]
  },
  {
   "cell_type": "markdown",
   "metadata": {},
   "source": [
    "## baseline"
   ]
  },
  {
   "cell_type": "markdown",
   "metadata": {},
   "source": [
    "#### define metric"
   ]
  },
  {
   "cell_type": "code",
   "execution_count": 13,
   "metadata": {},
   "outputs": [],
   "source": [
    "from src.main.baseline import RecoveryFromAshDistance\n",
    "\n",
    "ref_lat = np.median(all_candidates[:, 0]).item()\n",
    "ref_long = np.median(all_candidates[:, 1]).item()\n",
    "\n",
    "day_timestamp = 12\n",
    "\n",
    "distance_metric = RecoveryFromAshDistance(ref=(ref_lat, ref_long), day_time=day_timestamp)"
   ]
  },
  {
   "cell_type": "markdown",
   "metadata": {},
   "source": [
    "#### night time trajectory recovery"
   ]
  },
  {
   "cell_type": "code",
   "execution_count": 26,
   "metadata": {},
   "outputs": [
    {
     "name": "stderr",
     "output_type": "stream",
     "text": [
      "night time recovery: 100%|██████████| 15/15 [00:00<00:00, 95.70it/s]\n"
     ]
    }
   ],
   "source": [
    "from src.main.baseline import DailyTrajectoryRecovery, get_aggregated_observations\n",
    "\n",
    "predicted: list[list[Trajectory]] = [None] * len(test_trajectories)\n",
    "\n",
    "for i in tqdm.trange(0, len(test_trajectories), desc='night time recovery'):\n",
    "    trajectories = [Trajectory(t.points[:day_timestamp]) for t in test_trajectories[i].values()]\n",
    "\n",
    "    algorithm = DailyTrajectoryRecovery(\n",
    "        get_observations=lambda t: get_aggregated_observations(trajectories, t),\n",
    "        cost_matrix=distance_metric.compute,\n",
    "        sequence_length=day_timestamp,\n",
    "        sequence_count=len(trajectories)\n",
    "    )\n",
    "\n",
    "    algorithm.run(verbose=False)\n",
    "    predicted[i] = algorithm.get_predicted_trajectories()"
   ]
  },
  {
   "cell_type": "markdown",
   "metadata": {},
   "source": [
    "Evaluate"
   ]
  },
  {
   "cell_type": "code",
   "execution_count": 27,
   "metadata": {},
   "outputs": [
    {
     "name": "stderr",
     "output_type": "stream",
     "text": [
      "100%|██████████| 15/15 [00:00<00:00, 91.49it/s]"
     ]
    },
    {
     "name": "stdout",
     "output_type": "stream",
     "text": [
      "average accuracy: 0.9475532527346\n",
      "average recovery error: 0.6129726359511535\n"
     ]
    },
    {
     "name": "stderr",
     "output_type": "stream",
     "text": [
      "\n"
     ]
    }
   ],
   "source": [
    "from src.eval.metrics import greedy_match, similarity, mean_distance\n",
    "\n",
    "avg_accuracy: float = 0\n",
    "avg_recovery_error: float = 0\n",
    "\n",
    "for predicted_trajectories, target_trajectories in tqdm.tqdm(zip(predicted, test_trajectories), total=len(predicted)):\n",
    "    target_trajectories = [Trajectory(t.points[:day_timestamp]) for t in target_trajectories.values()]\n",
    "    \n",
    "    indices = greedy_match(predicted_trajectories, target_trajectories)\n",
    "    n_trajectories = len(predicted_trajectories)\n",
    "\n",
    "    accuracy = similarity(\n",
    "        np.array(predicted_trajectories),\n",
    "        np.array(target_trajectories)[indices]\n",
    "    ).mean()\n",
    "\n",
    "    recovery_error = mean_distance(\n",
    "        np.array(predicted_trajectories),\n",
    "        np.array(target_trajectories)[indices]\n",
    "    ).mean() / 1000\n",
    "\n",
    "    avg_accuracy += accuracy / len(test_trajectories)\n",
    "    avg_recovery_error += recovery_error / len(test_trajectories)\n",
    "\n",
    "print(f'average accuracy: {avg_accuracy}')\n",
    "print(f'average recovery error: {avg_recovery_error}')"
   ]
  },
  {
   "cell_type": "markdown",
   "metadata": {},
   "source": [
    "#### single day trajectory recovery (night time + day time)"
   ]
  },
  {
   "cell_type": "code",
   "execution_count": 28,
   "metadata": {},
   "outputs": [
    {
     "name": "stderr",
     "output_type": "stream",
     "text": [
      "night + day recovery: 100%|██████████| 15/15 [00:00<00:00, 17.92it/s]\n"
     ]
    }
   ],
   "source": [
    "predicted: list[list[Trajectory]] = [None] * len(test_trajectories)\n",
    "\n",
    "for i in tqdm.trange(0, len(test_trajectories), desc='night + day recovery'):\n",
    "    trajectories = [Trajectory(t.points) for t in test_trajectories[i].values()]\n",
    "\n",
    "    algorithm = DailyTrajectoryRecovery(\n",
    "        get_observations=lambda t: get_aggregated_observations(trajectories, t),\n",
    "        cost_matrix=distance_metric.compute,\n",
    "        sequence_length=SEQ_LENGTH,\n",
    "        sequence_count=len(trajectories)\n",
    "    )\n",
    "\n",
    "    algorithm.run(verbose=False)\n",
    "    predicted[i] = algorithm.get_predicted_trajectories()"
   ]
  },
  {
   "cell_type": "markdown",
   "metadata": {},
   "source": [
    "Evaluate"
   ]
  },
  {
   "cell_type": "code",
   "execution_count": 29,
   "metadata": {},
   "outputs": [
    {
     "name": "stderr",
     "output_type": "stream",
     "text": [
      "100%|██████████| 15/15 [00:00<00:00, 46.93it/s]"
     ]
    },
    {
     "name": "stdout",
     "output_type": "stream",
     "text": [
      "average accuracy: 0.34737334484743815\n",
      "average recovery error: 12.89772005364775\n"
     ]
    },
    {
     "name": "stderr",
     "output_type": "stream",
     "text": [
      "\n"
     ]
    }
   ],
   "source": [
    "avg_accuracy: float = 0\n",
    "avg_recovery_error: float = 0\n",
    "\n",
    "for predicted_trajectories, target_trajectories in tqdm.tqdm(zip(predicted, test_trajectories), total=len(predicted)):\n",
    "    target_trajectories = [*target_trajectories.values()]\n",
    "    \n",
    "    indices = greedy_match(predicted_trajectories, target_trajectories)\n",
    "    n_trajectories = len(predicted_trajectories)\n",
    "\n",
    "    accuracy = similarity(\n",
    "        np.array(predicted_trajectories),\n",
    "        np.array(target_trajectories)[indices]\n",
    "    ).mean()\n",
    "\n",
    "    recovery_error = mean_distance(\n",
    "        np.array(predicted_trajectories),\n",
    "        np.array(target_trajectories)[indices]\n",
    "    ).mean() / 1000\n",
    "\n",
    "    avg_accuracy += accuracy / len(test_trajectories)\n",
    "    avg_recovery_error += recovery_error / len(test_trajectories)\n",
    "\n",
    "print(f'average accuracy: {avg_accuracy}')\n",
    "print(f'average recovery error: {avg_recovery_error}')"
   ]
  },
  {
   "cell_type": "markdown",
   "metadata": {},
   "source": [
    "### cross-day trajectory recovery"
   ]
  },
  {
   "cell_type": "code",
   "execution_count": 30,
   "metadata": {},
   "outputs": [
    {
     "data": {
      "text/plain": [
       "193"
      ]
     },
     "execution_count": 30,
     "metadata": {},
     "output_type": "execute_result"
    }
   ],
   "source": [
    "from src.utils import set_intersect\n",
    "\n",
    "persistent_users = set_intersect(*(trajectories.keys() for trajectories in test_trajectories))\n",
    "\n",
    "persistent_trajectories: list[dict[str, Trajectory]] = [None] * len(test_trajectories)\n",
    "\n",
    "for i in range(len(test_trajectories)):\n",
    "    persistent_trajectories[i] = {\n",
    "        uid: trajectory\n",
    "        for uid, trajectory in test_trajectories[i].items()\n",
    "        if uid in persistent_users\n",
    "    }\n",
    "\n",
    "len(persistent_users)"
   ]
  },
  {
   "cell_type": "markdown",
   "metadata": {},
   "source": [
    "single day trajectory recovery"
   ]
  },
  {
   "cell_type": "code",
   "execution_count": 31,
   "metadata": {},
   "outputs": [
    {
     "name": "stderr",
     "output_type": "stream",
     "text": [
      "night + day recovery: 100%|██████████| 15/15 [00:00<00:00, 19.95it/s]\n"
     ]
    }
   ],
   "source": [
    "predicted: list[list[Trajectory]] = [None] * len(persistent_trajectories)\n",
    "\n",
    "for i in tqdm.trange(0, len(persistent_trajectories), desc='night + day recovery'):\n",
    "    trajectories = [Trajectory(t.points) for t in persistent_trajectories[i].values()]\n",
    "\n",
    "    algorithm = DailyTrajectoryRecovery(\n",
    "        get_observations=lambda t: get_aggregated_observations(trajectories, t),\n",
    "        cost_matrix=distance_metric.compute,\n",
    "        sequence_length=SEQ_LENGTH,\n",
    "        sequence_count=len(trajectories)\n",
    "    )\n",
    "\n",
    "    algorithm.run(verbose=False)\n",
    "    predicted[i] = algorithm.get_predicted_trajectories()"
   ]
  },
  {
   "cell_type": "markdown",
   "metadata": {},
   "source": [
    "cross-day recovery"
   ]
  },
  {
   "cell_type": "code",
   "execution_count": 32,
   "metadata": {},
   "outputs": [
    {
     "name": "stderr",
     "output_type": "stream",
     "text": [
      "cross-day recovery: 100%|██████████| 14/14 [01:13<00:00,  5.27s/it]\n"
     ]
    }
   ],
   "source": [
    "from src.main.baseline import CrossDayTrajectoryRecovery\n",
    "\n",
    "algorithm = CrossDayTrajectoryRecovery(predicted)\n",
    "algorithm.run()\n",
    "\n",
    "predicted_trajectories = algorithm.result"
   ]
  },
  {
   "cell_type": "markdown",
   "metadata": {},
   "source": [
    "Evaluate"
   ]
  },
  {
   "cell_type": "code",
   "execution_count": 33,
   "metadata": {},
   "outputs": [
    {
     "name": "stdout",
     "output_type": "stream",
     "text": [
      "average accuracy: 0.2283606793321819\n",
      "average recovery error: 14.761468536360374\n"
     ]
    },
    {
     "data": {
      "text/plain": [
       "Text(0.5, 0, 'recovery error (km)')"
      ]
     },
     "execution_count": 33,
     "metadata": {},
     "output_type": "execute_result"
    },
    {
     "data": {
      "image/png": "[encoded data removed]",
      "text/plain": [
       "<Figure size 640x480 with 1 Axes>"
      ]
     },
     "metadata": {},
     "output_type": "display_data"
    }
   ],
   "source": [
    "import copy\n",
    "from src.eval.metrics import similarity, mean_distance\n",
    "\n",
    "# merge target trajectories\n",
    "target_trajectories = copy.deepcopy(persistent_trajectories[0])\n",
    "\n",
    "for uid, trajectory in target_trajectories.items():\n",
    "    for i in range(1, len(persistent_trajectories)):\n",
    "        trajectory.points += persistent_trajectories[i][uid].points\n",
    "\n",
    "target_trajectories = [*target_trajectories.values()]\n",
    "\n",
    "indices = greedy_match(predicted_trajectories, target_trajectories)\n",
    "\n",
    "accuracy = similarity(\n",
    "    np.array(predicted_trajectories),\n",
    "    np.array(target_trajectories)[indices]\n",
    ").mean()\n",
    "\n",
    "print(f'average accuracy: {accuracy}')\n",
    "\n",
    "distances = mean_distance(\n",
    "    np.array(predicted_trajectories),\n",
    "    np.array(target_trajectories)[indices]\n",
    ") / 1000\n",
    "\n",
    "print(f'average recovery error: {distances.mean()}')\n",
    "\n",
    "plt.title('distribution of recovery error')\n",
    "plt.hist(distances, cumulative=True, density=True, histtype='step')\n",
    "plt.ylabel('frequency')\n",
    "plt.xlabel('recovery error (km)')"
   ]
  },
  {
   "cell_type": "code",
   "execution_count": 34,
   "metadata": {},
   "outputs": [
    {
     "name": "stdout",
     "output_type": "stream",
     "text": [
      "[0.0, 0.8497409326424871, 0.9896373056994818, 1.0, 1.0]\n"
     ]
    },
    {
     "data": {
      "text/plain": [
       "Text(0, 0.5, 'unique percentage')"
      ]
     },
     "execution_count": 34,
     "metadata": {},
     "output_type": "execute_result"
    },
    {
     "data": {
      "image/png": "[encoded data removed]",
      "text/plain": [
       "<Figure size 640x480 with 1 Axes>"
      ]
     },
     "metadata": {},
     "output_type": "display_data"
    }
   ],
   "source": [
    "from src.eval.metrics import uniqueness_list\n",
    "\n",
    "uniqueness = [uniqueness_list(predicted_trajectories, i) for i in range(5)]\n",
    "print(uniqueness)\n",
    "\n",
    "plt.plot([str(i + 1) for i in range(5)], uniqueness, marker='o')\n",
    "plt.title('uniqueness')\n",
    "plt.xlabel('no. of top locations')\n",
    "plt.ylabel('unique percentage')"
   ]
  },
  {
   "cell_type": "markdown",
   "metadata": {},
   "source": [
    "### Result\n",
    "\n",
    "all persistent users (~1.3k users in total):\n",
    "\n",
    "| Step | Accuracy (%) | Recovery Error (km) |\n",
    "|------|----------|----------------|\n",
    "| 1 | 96 | 0.45 |\n",
    "| 2 | 48 | 8.9 | \n",
    "| 3 | 32 | 11.0 |\n",
    "\n",
    "<br>\n",
    "\n",
    "| k | Uniqueness |\n",
    "|---|------------|\n",
    "| 1 | 0.0 |\n",
    "| 2 | 0.42 |\n",
    "| 3 | 0.95 |\n",
    "| 4 | 0.99 |\n",
    "| 5 | 1.0 |\n",
    "\n",
    "persistent users with >= 3 unique locations per day (193 users in total)\n",
    "| Step | Accuracy (%) | Recovery Error (km) |\n",
    "|------|----------|----------------|\n",
    "| 1 | 95 | 0.61 |\n",
    "| 2 | 35 | 12.9 | \n",
    "| 3 | 23 | 14.8 |\n",
    "\n",
    "<br>\n",
    "\n",
    "| k | Uniqueness |\n",
    "|---|------------|\n",
    "| 1 | 0.0 |\n",
    "| 2 | 0.85 |\n",
    "| 3 | 0.99 |\n",
    "| 4 | 1.0 |\n",
    "| 5 | 1.0 |"
   ]
  }
 ],
 "metadata": {
  "kernelspec": {
   "display_name": "venv",
   "language": "python",
   "name": "python3"
  },
  "language_info": {
   "codemirror_mode": {
    "name": "ipython",
    "version": 3
   },
   "file_extension": ".py",
   "mimetype": "text/x-python",
   "name": "python",
   "nbconvert_exporter": "python",
   "pygments_lexer": "ipython3",
   "version": "3.9.0"
  }
 },
 "nbformat": 4,
 "nbformat_minor": 2
}
